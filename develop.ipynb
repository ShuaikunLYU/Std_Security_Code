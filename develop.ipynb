{
 "cells": [
  {
   "cell_type": "code",
   "execution_count": 2,
   "id": "63ed2ff5-c262-464f-80ff-b145e1240b9e",
   "metadata": {},
   "outputs": [],
   "source": [
    "import saspy\n",
    "import time"
   ]
  },
  {
   "cell_type": "code",
   "execution_count": 3,
   "id": "053f32d0-2f95-493b-b928-3d5806ccd4ab",
   "metadata": {},
   "outputs": [
    {
     "name": "stdout",
     "output_type": "stream",
     "text": [
      "Using SAS Config named: default\n",
      "SAS Connection established. Subprocess id is 177334\n",
      "\n"
     ]
    }
   ],
   "source": [
    "sas = saspy.SASsession()\n",
    "# ll = sas.submit(f'libname db \"/data/daveting/dataset/Compustat/d_na\";')\n",
    "# ll = sas.submit(f'libname db \"/data/daveting/dataset/Compustat/d_na/security\";')\n",
    "# ll = sas.submit(f'libname db \"/data/daveting/dataset/Compustat/d_global\";')\n",
    "# ll = sas.submit(f'libname db \"/data/daveting/dataset/Compustat/d_global/security\";')\n",
    "# ll = sas.submit(f'libname db \"/data/daveting/dataset/Refinitiv/ds_eq/reference_tables\";')\n",
    "# ll = sas.submit(f'libname db \"/data/daveting/dataset/Refinitiv/esg\";')\n",
    "# ll = sas.submit(f'libname db \"/data/daveting/dataset/Trucost/common\";')\n",
    "ll = sas.submit(f'libname db \"/data/daveting/dataset/Capital_IQ/helper\";')"
   ]
  },
  {
   "cell_type": "code",
   "execution_count": 22,
   "id": "f153b348-5286-416e-a6f3-a4822eaca005",
   "metadata": {},
   "outputs": [
    {
     "data": {
      "text/plain": [
       "(9600285, 2)"
      ]
     },
     "execution_count": 22,
     "metadata": {},
     "output_type": "execute_result"
    },
    {
     "data": {
      "text/html": [
       "<div>\n",
       "<style scoped>\n",
       "    .dataframe tbody tr th:only-of-type {\n",
       "        vertical-align: middle;\n",
       "    }\n",
       "\n",
       "    .dataframe tbody tr th {\n",
       "        vertical-align: top;\n",
       "    }\n",
       "\n",
       "    .dataframe thead th {\n",
       "        text-align: right;\n",
       "    }\n",
       "</style>\n",
       "<table border=\"1\" class=\"dataframe\">\n",
       "  <thead>\n",
       "    <tr style=\"text-align: right;\">\n",
       "      <th></th>\n",
       "      <th>isin</th>\n",
       "      <th>ciq_company_id</th>\n",
       "    </tr>\n",
       "  </thead>\n",
       "  <tbody>\n",
       "    <tr>\n",
       "      <th>4800142</th>\n",
       "      <td>XS1730704464</td>\n",
       "      <td>26081567</td>\n",
       "    </tr>\n",
       "    <tr>\n",
       "      <th>6400203</th>\n",
       "      <td>CH0379055210</td>\n",
       "      <td>34418814</td>\n",
       "    </tr>\n",
       "    <tr>\n",
       "      <th>6400187</th>\n",
       "      <td>CH0379055012</td>\n",
       "      <td>34418814</td>\n",
       "    </tr>\n",
       "  </tbody>\n",
       "</table>\n",
       "</div>"
      ],
      "text/plain": [
       "                 isin  ciq_company_id\n",
       "4800142  XS1730704464        26081567\n",
       "6400203  CH0379055210        34418814\n",
       "6400187  CH0379055012        34418814"
      ]
     },
     "execution_count": 22,
     "metadata": {},
     "output_type": "execute_result"
    }
   ],
   "source": [
    "ck = pd.read_parquet('/data/daveting/dataset/Std_Security_Code/isin/ciq_company_id.pq').drop(columns=['source', 'update'])\n",
    "ck.shape\n",
    "ck.head(3)"
   ]
  },
  {
   "cell_type": "code",
   "execution_count": 164,
   "id": "08333d08-b68c-4dd7-b82e-141df792bbb2",
   "metadata": {},
   "outputs": [
    {
     "data": {
      "text/plain": [
       "(10222901, 4)"
      ]
     },
     "execution_count": 164,
     "metadata": {},
     "output_type": "execute_result"
    },
    {
     "data": {
      "text/html": [
       "<div>\n",
       "<style scoped>\n",
       "    .dataframe tbody tr th:only-of-type {\n",
       "        vertical-align: middle;\n",
       "    }\n",
       "\n",
       "    .dataframe tbody tr th {\n",
       "        vertical-align: top;\n",
       "    }\n",
       "\n",
       "    .dataframe thead th {\n",
       "        text-align: right;\n",
       "    }\n",
       "</style>\n",
       "<table border=\"1\" class=\"dataframe\">\n",
       "  <thead>\n",
       "    <tr style=\"text-align: right;\">\n",
       "      <th></th>\n",
       "      <th>isin</th>\n",
       "      <th>company_name</th>\n",
       "      <th>source</th>\n",
       "      <th>update</th>\n",
       "    </tr>\n",
       "  </thead>\n",
       "  <tbody>\n",
       "    <tr>\n",
       "      <th>10222900</th>\n",
       "      <td>CNE100000TP3</td>\n",
       "      <td>LUXSHARE PRECISION INDUSTRY CO LTD (LUXSHARE)</td>\n",
       "      <td>RepRisk</td>\n",
       "      <td>2022-06-19</td>\n",
       "    </tr>\n",
       "    <tr>\n",
       "      <th>10040426</th>\n",
       "      <td>US091096EA16</td>\n",
       "      <td>WATER WORKS BOARD OF THE CITY OF BIRMINGHAM; T...</td>\n",
       "      <td>RepRisk</td>\n",
       "      <td>2022-06-19</td>\n",
       "    </tr>\n",
       "    <tr>\n",
       "      <th>10040440</th>\n",
       "      <td>US091096DL89</td>\n",
       "      <td>WATER WORKS BOARD OF THE CITY OF BIRMINGHAM; T...</td>\n",
       "      <td>RepRisk</td>\n",
       "      <td>2022-06-19</td>\n",
       "    </tr>\n",
       "  </tbody>\n",
       "</table>\n",
       "</div>"
      ],
      "text/plain": [
       "                  isin                                       company_name  \\\n",
       "10222900  CNE100000TP3      LUXSHARE PRECISION INDUSTRY CO LTD (LUXSHARE)   \n",
       "10040426  US091096EA16  WATER WORKS BOARD OF THE CITY OF BIRMINGHAM; T...   \n",
       "10040440  US091096DL89  WATER WORKS BOARD OF THE CITY OF BIRMINGHAM; T...   \n",
       "\n",
       "           source     update  \n",
       "10222900  RepRisk 2022-06-19  \n",
       "10040426  RepRisk 2022-06-19  \n",
       "10040440  RepRisk 2022-06-19  "
      ]
     },
     "execution_count": 164,
     "metadata": {},
     "output_type": "execute_result"
    }
   ],
   "source": [
    "sk = pd.read_parquet('/data/daveting/dataset/Std_Security_Code/isin/company_name.pq')\n",
    "# sk.drop(columns=['iid'], inplace=True)\n",
    "sk.shape\n",
    "sk.head(3)"
   ]
  },
  {
   "cell_type": "code",
   "execution_count": 175,
   "id": "c8aecda8-60b4-439e-b194-e21893d91f82",
   "metadata": {},
   "outputs": [
    {
     "data": {
      "text/plain": [
       "(181582, 9)"
      ]
     },
     "execution_count": 175,
     "metadata": {},
     "output_type": "execute_result"
    },
    {
     "data": {
      "text/html": [
       "<div>\n",
       "<style scoped>\n",
       "    .dataframe tbody tr th:only-of-type {\n",
       "        vertical-align: middle;\n",
       "    }\n",
       "\n",
       "    .dataframe tbody tr th {\n",
       "        vertical-align: top;\n",
       "    }\n",
       "\n",
       "    .dataframe thead th {\n",
       "        text-align: right;\n",
       "    }\n",
       "</style>\n",
       "<table border=\"1\" class=\"dataframe\">\n",
       "  <thead>\n",
       "    <tr style=\"text-align: right;\">\n",
       "      <th></th>\n",
       "      <th>RepRisk_ID</th>\n",
       "      <th>name</th>\n",
       "      <th>headquarter_country</th>\n",
       "      <th>headquarter_country_code</th>\n",
       "      <th>sectors</th>\n",
       "      <th>url</th>\n",
       "      <th>all_ISINs</th>\n",
       "      <th>primary_ISIN</th>\n",
       "      <th>No_reported_risk_exposure</th>\n",
       "    </tr>\n",
       "  </thead>\n",
       "  <tbody>\n",
       "    <tr>\n",
       "      <th>110693</th>\n",
       "      <td>295056</td>\n",
       "      <td>Aravali Power Co Pvt Ltd (APCPL)</td>\n",
       "      <td>India</td>\n",
       "      <td>IN</td>\n",
       "      <td>Utilities</td>\n",
       "      <td>http://www.apcpl.co.in/</td>\n",
       "      <td>None</td>\n",
       "      <td>None</td>\n",
       "      <td>False</td>\n",
       "    </tr>\n",
       "    <tr>\n",
       "      <th>173261</th>\n",
       "      <td>86231</td>\n",
       "      <td>Belgorodenergo OJSC</td>\n",
       "      <td>Russian Federation</td>\n",
       "      <td>RU</td>\n",
       "      <td>Utilities</td>\n",
       "      <td>None</td>\n",
       "      <td>None</td>\n",
       "      <td>RU000A0F7CY4</td>\n",
       "      <td>False</td>\n",
       "    </tr>\n",
       "    <tr>\n",
       "      <th>158967</th>\n",
       "      <td>644640</td>\n",
       "      <td>Sysco Eastern Maryland LLC</td>\n",
       "      <td>United States of America</td>\n",
       "      <td>US</td>\n",
       "      <td>Food and Beverage | Retail</td>\n",
       "      <td>https://sysco.com/Contact/Contact/Our-Location...</td>\n",
       "      <td>None</td>\n",
       "      <td>None</td>\n",
       "      <td>False</td>\n",
       "    </tr>\n",
       "  </tbody>\n",
       "</table>\n",
       "</div>"
      ],
      "text/plain": [
       "        RepRisk_ID                              name  \\\n",
       "110693      295056  Aravali Power Co Pvt Ltd (APCPL)   \n",
       "173261       86231               Belgorodenergo OJSC   \n",
       "158967      644640        Sysco Eastern Maryland LLC   \n",
       "\n",
       "             headquarter_country headquarter_country_code  \\\n",
       "110693                     India                       IN   \n",
       "173261        Russian Federation                       RU   \n",
       "158967  United States of America                       US   \n",
       "\n",
       "                           sectors  \\\n",
       "110693                   Utilities   \n",
       "173261                   Utilities   \n",
       "158967  Food and Beverage | Retail   \n",
       "\n",
       "                                                      url all_ISINs  \\\n",
       "110693                            http://www.apcpl.co.in/      None   \n",
       "173261                                               None      None   \n",
       "158967  https://sysco.com/Contact/Contact/Our-Location...      None   \n",
       "\n",
       "        primary_ISIN  No_reported_risk_exposure  \n",
       "110693          None                      False  \n",
       "173261  RU000A0F7CY4                      False  \n",
       "158967          None                      False  "
      ]
     },
     "execution_count": 175,
     "metadata": {},
     "output_type": "execute_result"
    }
   ],
   "source": [
    "### 读取CSV/Parquet源文件\n",
    "# df = pd.read_csv(\"/data/daveting/dataset/Sustainalytics/hist_weighted_score.csv\", encoding='latin1', low_memory=False,\n",
    "#                  usecols=[\"ISIN\", 'Ticker'],\n",
    "#                  # nrows=5,\n",
    "#                 )\n",
    "df = pd.read_parquet(\"/data/daveting/dataset/RepRisk/2022upd/pm_company_identifiers.pq\",\n",
    "                 # columns=[\"name\", 'primary_ISIN'],\n",
    "                 # nrows=5,\n",
    "                ) #.dropna()\n",
    "# Sustainalytics: ISIN: Company CapitalIQ_ID Ticker\n",
    "df.shape\n",
    "df.sample(3)"
   ]
  },
  {
   "cell_type": "code",
   "execution_count": 166,
   "id": "464c1c47-b9ac-481a-bb34-8510d319a77c",
   "metadata": {},
   "outputs": [],
   "source": [
    "### RepRisk堆叠特殊处理\n",
    "# df['all_ISINs'] = df['all_ISINs'].str.split(' ')\n",
    "# df = df.explode('all_ISINs')\n",
    "# df.sample()"
   ]
  },
  {
   "cell_type": "code",
   "execution_count": 120,
   "id": "03d31360-ce79-40f9-954c-710bf5a1e253",
   "metadata": {},
   "outputs": [
    {
     "data": {
      "text/plain": [
       "(4570046, 2)"
      ]
     },
     "execution_count": 120,
     "metadata": {},
     "output_type": "execute_result"
    },
    {
     "data": {
      "text/html": [
       "<div>\n",
       "<style scoped>\n",
       "    .dataframe tbody tr th:only-of-type {\n",
       "        vertical-align: middle;\n",
       "    }\n",
       "\n",
       "    .dataframe tbody tr th {\n",
       "        vertical-align: top;\n",
       "    }\n",
       "\n",
       "    .dataframe thead th {\n",
       "        text-align: right;\n",
       "    }\n",
       "</style>\n",
       "<table border=\"1\" class=\"dataframe\">\n",
       "  <thead>\n",
       "    <tr style=\"text-align: right;\">\n",
       "      <th></th>\n",
       "      <th>companyid</th>\n",
       "      <th>ticker</th>\n",
       "    </tr>\n",
       "  </thead>\n",
       "  <tbody>\n",
       "    <tr>\n",
       "      <th>0</th>\n",
       "      <td>18507.0</td>\n",
       "      <td>1026283</td>\n",
       "    </tr>\n",
       "    <tr>\n",
       "      <th>1</th>\n",
       "      <td>18507.0</td>\n",
       "      <td>MMINV</td>\n",
       "    </tr>\n",
       "    <tr>\n",
       "      <th>2</th>\n",
       "      <td>18507.0</td>\n",
       "      <td>TW8</td>\n",
       "    </tr>\n",
       "    <tr>\n",
       "      <th>3</th>\n",
       "      <td>18507.0</td>\n",
       "      <td>MMINVN</td>\n",
       "    </tr>\n",
       "    <tr>\n",
       "      <th>4</th>\n",
       "      <td>18507.0</td>\n",
       "      <td>1026852</td>\n",
       "    </tr>\n",
       "  </tbody>\n",
       "</table>\n",
       "</div>"
      ],
      "text/plain": [
       "   companyid   ticker\n",
       "0    18507.0  1026283\n",
       "1    18507.0    MMINV\n",
       "2    18507.0      TW8\n",
       "3    18507.0   MMINVN\n",
       "4    18507.0  1026852"
      ]
     },
     "execution_count": 120,
     "metadata": {},
     "output_type": "execute_result"
    },
    {
     "data": {
      "text/plain": [
       "companyid     0\n",
       "ticker       25\n",
       "dtype: int64"
      ]
     },
     "execution_count": 120,
     "metadata": {},
     "output_type": "execute_result"
    }
   ],
   "source": [
    "### 读取SAS源文件\n",
    "df = sas.sd2df(\n",
    "    libref='db', \n",
    "    table='wrds_ticker', \n",
    "    dsopts={\n",
    "        'keep': ['companyid', 'ticker'],\n",
    "        # comp names: isin(x)\n",
    "        # comp security: isin: tic gvkey-iid cusip ibtic sedol\n",
    "        # comp g_names: isin: gvkey conm sedol\n",
    "        # comp g_security: isin: tic(x) gvkey-iid cusip(x) ibtic sedol\n",
    "        # tfn wrds_ds_names: ISIN ISIN2: InfoCode DsCode DsSecCode(x) DsQtName(x) DsLocalCode(x)\n",
    "        #                            DsMnem(Ticker?) PermID(x) DsSctyCode(x) DsCmpyCode(x) DsSecName(x) PrimQtSedol PrimQtInfoCode\n",
    "        #                            WSSctyPPI IBESTicker WSSctyPPI2 IBESTicker2 DsCompCode(x) DsCmpyName\n",
    "        # tfn wrds_company_info: Isin: OrgID Asset4Id(x) OrgName tick Cusip Sedol\n",
    "        # trucost wrds_companies: gvkey: ticker companyname institutionid\n",
    "        # ciq wrds_isin: companyid: isin companyname\n",
    "        # ciq wrds_gvkey: companyid: gvkey companyname\n",
    "        # ciq wrds_cusip: companyid: cusip companyname\n",
    "        # ciq wrds_cik: companyid: cik companyname\n",
    "        # ciq wrds_ciqsymbol: companyid: 所有symbol的link table\n",
    "        # ciq ciqgvkeyiid: gvkey iid relatedcompanyid\n",
    "        # ciq wrds_ticker: companyid: ticker companyname\n",
    "        # 'obs': 10,\n",
    "    }\n",
    ")\n",
    "df.shape\n",
    "df.head()\n",
    "df.isna().sum()"
   ]
  },
  {
   "cell_type": "code",
   "execution_count": 167,
   "id": "29e768bc-5bac-4b55-b5b0-6dd7fe771831",
   "metadata": {},
   "outputs": [
    {
     "data": {
      "text/plain": [
       "(20829, 2)"
      ]
     },
     "execution_count": 167,
     "metadata": {},
     "output_type": "execute_result"
    },
    {
     "data": {
      "text/plain": [
       "(20829, 2)"
      ]
     },
     "execution_count": 167,
     "metadata": {},
     "output_type": "execute_result"
    },
    {
     "data": {
      "text/html": [
       "<div>\n",
       "<style scoped>\n",
       "    .dataframe tbody tr th:only-of-type {\n",
       "        vertical-align: middle;\n",
       "    }\n",
       "\n",
       "    .dataframe tbody tr th {\n",
       "        vertical-align: top;\n",
       "    }\n",
       "\n",
       "    .dataframe thead th {\n",
       "        text-align: right;\n",
       "    }\n",
       "</style>\n",
       "<table border=\"1\" class=\"dataframe\">\n",
       "  <thead>\n",
       "    <tr style=\"text-align: right;\">\n",
       "      <th></th>\n",
       "      <th>company_name</th>\n",
       "      <th>isin</th>\n",
       "    </tr>\n",
       "  </thead>\n",
       "  <tbody>\n",
       "    <tr>\n",
       "      <th>0</th>\n",
       "      <td>Acer Inc</td>\n",
       "      <td>TW0002353000</td>\n",
       "    </tr>\n",
       "    <tr>\n",
       "      <th>1</th>\n",
       "      <td>Rio Tinto PLC</td>\n",
       "      <td>GB0007188757</td>\n",
       "    </tr>\n",
       "    <tr>\n",
       "      <th>2</th>\n",
       "      <td>Terrane Metals Corp</td>\n",
       "      <td>CA88103A1084</td>\n",
       "    </tr>\n",
       "    <tr>\n",
       "      <th>3</th>\n",
       "      <td>BLUECOM Co Ltd</td>\n",
       "      <td>KR7033560004</td>\n",
       "    </tr>\n",
       "    <tr>\n",
       "      <th>13</th>\n",
       "      <td>Hytera Communications Corp Ltd</td>\n",
       "      <td>CNE1000013B1</td>\n",
       "    </tr>\n",
       "  </tbody>\n",
       "</table>\n",
       "</div>"
      ],
      "text/plain": [
       "                      company_name          isin\n",
       "0                         Acer Inc  TW0002353000\n",
       "1                    Rio Tinto PLC  GB0007188757\n",
       "2              Terrane Metals Corp  CA88103A1084\n",
       "3                   BLUECOM Co Ltd  KR7033560004\n",
       "13  Hytera Communications Corp Ltd  CNE1000013B1"
      ]
     },
     "execution_count": 167,
     "metadata": {},
     "output_type": "execute_result"
    }
   ],
   "source": [
    "df.dropna(inplace=True)\n",
    "df.shape\n",
    "df.rename(columns={'ibtic': 'ibes_ticker', \n",
    "                   'IBESTicker': 'ibes_ticker', \n",
    "                   'IBESTicker2': 'ibes_ticker', \n",
    "                   \n",
    "                   'tic': 'ticker', \n",
    "                   'tick': 'ticker',\n",
    "                   'Ticker': 'ticker',\n",
    "                   \n",
    "                   'Cusip': 'cusip',\n",
    "                   \n",
    "                   'conm': 'company_name', \n",
    "                   'DsCmpyName': 'company_name',\n",
    "                   'OrgName': 'company_name',\n",
    "                   'companyname': 'company_name',\n",
    "                   'Company': 'company_name',\n",
    "                   'name': 'company_name',\n",
    "                   \n",
    "                   'ISIN': 'isin', \n",
    "                   'ISIN2': 'isin',\n",
    "                   'Isin': 'isin',\n",
    "                   'primary_ISIN': 'isin',\n",
    "                   'all_ISINs': 'isin',\n",
    "                   \n",
    "                   'InfoCode': 'ds_infocode',\n",
    "                   'PrimQtInfoCode': 'ds_infocode',\n",
    "                   \n",
    "                   'DsCode': 'ds_code', \n",
    "                   \n",
    "                   'PrimQtSedol': 'sedol',\n",
    "                   'Sedol': 'sedol',\n",
    "\n",
    "                   'WSSctyPPI': 'ws_sctyppi',\n",
    "                   'WSSctyPPI2': 'ws_sctyppi',\n",
    "                   \n",
    "                   'OrgID': 'a4_orgid',\n",
    "                   \n",
    "                   'institutionid': 'sp_institutionid', \n",
    "                   \n",
    "                   'CapitalIQ_ID': 'ciq_company_id',\n",
    "                   'companyid': 'ciq_company_id', \n",
    "                   'relatedcompanyid': 'ciq_company_id', \n",
    "                   \"RepRisk_ID\": 'reprisk_id', }, inplace=True)\n",
    "df.drop_duplicates(inplace=True)\n",
    "df.shape\n",
    "df.head()"
   ]
  },
  {
   "cell_type": "code",
   "execution_count": 168,
   "id": "3f6c9940-12c1-4a38-8934-8cb2ab089c9c",
   "metadata": {},
   "outputs": [
    {
     "data": {
      "text/html": [
       "<div>\n",
       "<style scoped>\n",
       "    .dataframe tbody tr th:only-of-type {\n",
       "        vertical-align: middle;\n",
       "    }\n",
       "\n",
       "    .dataframe tbody tr th {\n",
       "        vertical-align: top;\n",
       "    }\n",
       "\n",
       "    .dataframe thead th {\n",
       "        text-align: right;\n",
       "    }\n",
       "</style>\n",
       "<table border=\"1\" class=\"dataframe\">\n",
       "  <thead>\n",
       "    <tr style=\"text-align: right;\">\n",
       "      <th></th>\n",
       "      <th>company_name</th>\n",
       "      <th>isin</th>\n",
       "    </tr>\n",
       "  </thead>\n",
       "  <tbody>\n",
       "    <tr>\n",
       "      <th>0</th>\n",
       "      <td>ACER INC</td>\n",
       "      <td>TW0002353000</td>\n",
       "    </tr>\n",
       "    <tr>\n",
       "      <th>1</th>\n",
       "      <td>RIO TINTO PLC</td>\n",
       "      <td>GB0007188757</td>\n",
       "    </tr>\n",
       "    <tr>\n",
       "      <th>2</th>\n",
       "      <td>TERRANE METALS CORP</td>\n",
       "      <td>CA88103A1084</td>\n",
       "    </tr>\n",
       "    <tr>\n",
       "      <th>3</th>\n",
       "      <td>BLUECOM CO LTD</td>\n",
       "      <td>KR7033560004</td>\n",
       "    </tr>\n",
       "    <tr>\n",
       "      <th>13</th>\n",
       "      <td>HYTERA COMMUNICATIONS CORP LTD</td>\n",
       "      <td>CNE1000013B1</td>\n",
       "    </tr>\n",
       "  </tbody>\n",
       "</table>\n",
       "</div>"
      ],
      "text/plain": [
       "                      company_name          isin\n",
       "0                         ACER INC  TW0002353000\n",
       "1                    RIO TINTO PLC  GB0007188757\n",
       "2              TERRANE METALS CORP  CA88103A1084\n",
       "3                   BLUECOM CO LTD  KR7033560004\n",
       "13  HYTERA COMMUNICATIONS CORP LTD  CNE1000013B1"
      ]
     },
     "execution_count": 168,
     "metadata": {},
     "output_type": "execute_result"
    },
    {
     "data": {
      "text/plain": [
       "company_name    object\n",
       "isin            object\n",
       "dtype: object"
      ]
     },
     "execution_count": 168,
     "metadata": {},
     "output_type": "execute_result"
    }
   ],
   "source": [
    "if 'ibes_ticker' in df.columns: df['ibes_ticker'] = df['ibes_ticker'].map(str).str.replace('@:', '')\n",
    "# if 'ciq_company_id' in df.columns: df['ciq_company_id'] = df['ciq_company_id'].str.replace('IQ', '')\n",
    "\n",
    "for var in ['sedol', 'cusip', 'iid', 'ds_code', 'ws_sctyppi', 'company_name', 'ticker', 'ibes_ticker']:\n",
    "    if var in df.columns: df[var] = df[var].str.upper()\n",
    "\n",
    "for var in ['gvkey', 'ds_infocode', 'a4_orgid', 'sp_institutionid', 'ciq_company_id', 'cik', 'reprisk_id']:\n",
    "    if var in df.columns: df[var] = df[var].map(int)\n",
    "\n",
    "df.head()\n",
    "df.dtypes"
   ]
  },
  {
   "cell_type": "code",
   "execution_count": 148,
   "id": "06ef1519-0128-4fba-b1d7-17e9510439fb",
   "metadata": {},
   "outputs": [],
   "source": [
    "### 公司-证券过桥\n",
    "df = ck.merge(df, on=['ciq_company_id'], how='inner')[['isin', 'ticker']]\n",
    "df.shape\n",
    "df.head()"
   ]
  },
  {
   "cell_type": "code",
   "execution_count": 134,
   "id": "3fe8f0e3-a2f4-4b53-b418-83a576322622",
   "metadata": {},
   "outputs": [],
   "source": [
    "### 新建数据\n",
    "df['source'] = 'RepRisk'\n",
    "# 'Capital IQ'  'Sustainalytics'  'S&P ESG'  'Refinitiv ESG'  'Refinitiv Datastream'  'Compustat Global'\n",
    "df['update'] = pd.to_datetime('2022-06-19')\n",
    "dfm = df.copy()"
   ]
  },
  {
   "cell_type": "code",
   "execution_count": 169,
   "id": "abb73e86-a8a0-4428-9d02-32efebce3b44",
   "metadata": {},
   "outputs": [
    {
     "data": {
      "text/plain": [
       "left_only     10203772\n",
       "both             19129\n",
       "right_only        1700\n",
       "Name: _merge, dtype: int64"
      ]
     },
     "execution_count": 169,
     "metadata": {},
     "output_type": "execute_result"
    },
    {
     "data": {
      "text/plain": [
       "(10224601, 5)"
      ]
     },
     "execution_count": 169,
     "metadata": {},
     "output_type": "execute_result"
    },
    {
     "data": {
      "text/html": [
       "<div>\n",
       "<style scoped>\n",
       "    .dataframe tbody tr th:only-of-type {\n",
       "        vertical-align: middle;\n",
       "    }\n",
       "\n",
       "    .dataframe tbody tr th {\n",
       "        vertical-align: top;\n",
       "    }\n",
       "\n",
       "    .dataframe thead th {\n",
       "        text-align: right;\n",
       "    }\n",
       "</style>\n",
       "<table border=\"1\" class=\"dataframe\">\n",
       "  <thead>\n",
       "    <tr style=\"text-align: right;\">\n",
       "      <th></th>\n",
       "      <th>isin</th>\n",
       "      <th>company_name</th>\n",
       "      <th>source</th>\n",
       "      <th>update</th>\n",
       "      <th>_merge</th>\n",
       "    </tr>\n",
       "  </thead>\n",
       "  <tbody>\n",
       "    <tr>\n",
       "      <th>0</th>\n",
       "      <td>CNE100000TP3</td>\n",
       "      <td>LUXSHARE PRECISION INDUSTRY CO LTD (LUXSHARE)</td>\n",
       "      <td>RepRisk</td>\n",
       "      <td>2022-06-19</td>\n",
       "      <td>both</td>\n",
       "    </tr>\n",
       "    <tr>\n",
       "      <th>1</th>\n",
       "      <td>US091096EA16</td>\n",
       "      <td>WATER WORKS BOARD OF THE CITY OF BIRMINGHAM; T...</td>\n",
       "      <td>RepRisk</td>\n",
       "      <td>2022-06-19</td>\n",
       "      <td>left_only</td>\n",
       "    </tr>\n",
       "    <tr>\n",
       "      <th>2</th>\n",
       "      <td>US091096DL89</td>\n",
       "      <td>WATER WORKS BOARD OF THE CITY OF BIRMINGHAM; T...</td>\n",
       "      <td>RepRisk</td>\n",
       "      <td>2022-06-19</td>\n",
       "      <td>left_only</td>\n",
       "    </tr>\n",
       "    <tr>\n",
       "      <th>3</th>\n",
       "      <td>US091096DM62</td>\n",
       "      <td>WATER WORKS BOARD OF THE CITY OF BIRMINGHAM; T...</td>\n",
       "      <td>RepRisk</td>\n",
       "      <td>2022-06-19</td>\n",
       "      <td>left_only</td>\n",
       "    </tr>\n",
       "    <tr>\n",
       "      <th>4</th>\n",
       "      <td>US091096DN46</td>\n",
       "      <td>WATER WORKS BOARD OF THE CITY OF BIRMINGHAM; T...</td>\n",
       "      <td>RepRisk</td>\n",
       "      <td>2022-06-19</td>\n",
       "      <td>left_only</td>\n",
       "    </tr>\n",
       "  </tbody>\n",
       "</table>\n",
       "</div>"
      ],
      "text/plain": [
       "           isin                                       company_name   source  \\\n",
       "0  CNE100000TP3      LUXSHARE PRECISION INDUSTRY CO LTD (LUXSHARE)  RepRisk   \n",
       "1  US091096EA16  WATER WORKS BOARD OF THE CITY OF BIRMINGHAM; T...  RepRisk   \n",
       "2  US091096DL89  WATER WORKS BOARD OF THE CITY OF BIRMINGHAM; T...  RepRisk   \n",
       "3  US091096DM62  WATER WORKS BOARD OF THE CITY OF BIRMINGHAM; T...  RepRisk   \n",
       "4  US091096DN46  WATER WORKS BOARD OF THE CITY OF BIRMINGHAM; T...  RepRisk   \n",
       "\n",
       "      update     _merge  \n",
       "0 2022-06-19       both  \n",
       "1 2022-06-19  left_only  \n",
       "2 2022-06-19  left_only  \n",
       "3 2022-06-19  left_only  \n",
       "4 2022-06-19  left_only  "
      ]
     },
     "execution_count": 169,
     "metadata": {},
     "output_type": "execute_result"
    }
   ],
   "source": [
    "dfm = sk.merge(df, on=['isin', 'company_name'], how='outer', indicator=True)\n",
    "dfm['_merge'].value_counts()\n",
    "dfm.shape\n",
    "dfm.head()"
   ]
  },
  {
   "cell_type": "code",
   "execution_count": 170,
   "id": "816e06d0-ad3e-446c-98bd-47a4aabb1ff0",
   "metadata": {},
   "outputs": [],
   "source": [
    "dfm.loc[dfm['_merge'] == 'right_only', 'source'] = 'RepRisk'\n",
    "# 'Capital IQ'  'Compustat NA'  'Compustat Global'  'Refinitiv Datastream'  'Refinitiv ESG'  'S&P ESG'  'Sustainalytics'\n",
    "dfm.loc[dfm['_merge'] == 'right_only', 'update'] = pd.to_datetime('2022-06-19')\n",
    "# dfm.loc[dfm['_merge'] == 'right_only'].sample(2)"
   ]
  },
  {
   "cell_type": "code",
   "execution_count": 171,
   "id": "858ae03c-2981-4415-b4bd-89cdc5db46f4",
   "metadata": {},
   "outputs": [
    {
     "data": {
      "text/plain": [
       "(10224601, 4)"
      ]
     },
     "execution_count": 171,
     "metadata": {},
     "output_type": "execute_result"
    },
    {
     "data": {
      "text/html": [
       "<div>\n",
       "<style scoped>\n",
       "    .dataframe tbody tr th:only-of-type {\n",
       "        vertical-align: middle;\n",
       "    }\n",
       "\n",
       "    .dataframe tbody tr th {\n",
       "        vertical-align: top;\n",
       "    }\n",
       "\n",
       "    .dataframe thead th {\n",
       "        text-align: right;\n",
       "    }\n",
       "</style>\n",
       "<table border=\"1\" class=\"dataframe\">\n",
       "  <thead>\n",
       "    <tr style=\"text-align: right;\">\n",
       "      <th></th>\n",
       "      <th>isin</th>\n",
       "      <th>company_name</th>\n",
       "      <th>source</th>\n",
       "      <th>update</th>\n",
       "    </tr>\n",
       "  </thead>\n",
       "  <tbody>\n",
       "    <tr>\n",
       "      <th>7967839</th>\n",
       "      <td>GB00BHLLCG05</td>\n",
       "      <td>LLOYDS BANK PLC</td>\n",
       "      <td>Capital IQ</td>\n",
       "      <td>2022-06-18</td>\n",
       "    </tr>\n",
       "    <tr>\n",
       "      <th>8210909</th>\n",
       "      <td>US22546KCU25</td>\n",
       "      <td>CREDIT SUISSE INTERNATIONAL</td>\n",
       "      <td>Capital IQ</td>\n",
       "      <td>2022-06-18</td>\n",
       "    </tr>\n",
       "    <tr>\n",
       "      <th>6602358</th>\n",
       "      <td>DE000CU2UBZ0</td>\n",
       "      <td>COMMERZBANK AG</td>\n",
       "      <td>Capital IQ</td>\n",
       "      <td>2022-06-18</td>\n",
       "    </tr>\n",
       "  </tbody>\n",
       "</table>\n",
       "</div>"
      ],
      "text/plain": [
       "                 isin                 company_name      source     update\n",
       "7967839  GB00BHLLCG05              LLOYDS BANK PLC  Capital IQ 2022-06-18\n",
       "8210909  US22546KCU25  CREDIT SUISSE INTERNATIONAL  Capital IQ 2022-06-18\n",
       "6602358  DE000CU2UBZ0               COMMERZBANK AG  Capital IQ 2022-06-18"
      ]
     },
     "execution_count": 171,
     "metadata": {},
     "output_type": "execute_result"
    }
   ],
   "source": [
    "dfm = dfm.loc[:, ['isin', 'company_name', 'source', 'update']]\n",
    "dfm.shape\n",
    "dfm.sample(3)"
   ]
  },
  {
   "cell_type": "code",
   "execution_count": 172,
   "id": "e2084245-8ffc-43f8-bc4b-d94525ee6937",
   "metadata": {},
   "outputs": [
    {
     "data": {
      "text/plain": [
       "0"
      ]
     },
     "execution_count": 172,
     "metadata": {},
     "output_type": "execute_result"
    },
    {
     "data": {
      "text/plain": [
       "(10224601, 4)"
      ]
     },
     "execution_count": 172,
     "metadata": {},
     "output_type": "execute_result"
    }
   ],
   "source": [
    "dfm.duplicated(subset=['isin', 'company_name']).sum()\n",
    "dfm.sort_values(by=['update'], ascending=False, inplace=True)\n",
    "dfm.drop_duplicates(subset=['isin', 'company_name'], keep='first', inplace=True)\n",
    "dfm.shape"
   ]
  },
  {
   "cell_type": "code",
   "execution_count": 173,
   "id": "e8f2ae0d-7eb7-4b00-887f-05f31135f802",
   "metadata": {},
   "outputs": [],
   "source": [
    "### 隔离，输出前请检查"
   ]
  },
  {
   "cell_type": "code",
   "execution_count": 174,
   "id": "8556a6dd-940b-4f01-8cfe-b660288a0b2e",
   "metadata": {},
   "outputs": [],
   "source": [
    "time.sleep(10)  # 延迟十秒才输出\n",
    "dfm.to_parquet('/data/daveting/dataset/Std_Security_Code/isin/company_name.pq')"
   ]
  },
  {
   "cell_type": "code",
   "execution_count": null,
   "id": "299eafcb-f7bc-4f4e-b843-47abfc6087aa",
   "metadata": {},
   "outputs": [],
   "source": []
  }
 ],
 "metadata": {
  "kernelspec": {
   "display_name": "Python 3 (ipykernel)",
   "language": "python",
   "name": "python3"
  },
  "language_info": {
   "codemirror_mode": {
    "name": "ipython",
    "version": 3
   },
   "file_extension": ".py",
   "mimetype": "text/x-python",
   "name": "python",
   "nbconvert_exporter": "python",
   "pygments_lexer": "ipython3",
   "version": "3.9.13"
  }
 },
 "nbformat": 4,
 "nbformat_minor": 5
}
