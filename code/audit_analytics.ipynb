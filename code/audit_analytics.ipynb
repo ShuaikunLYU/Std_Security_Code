{
 "cells": [
  {
   "cell_type": "code",
   "execution_count": 1,
   "metadata": {},
   "outputs": [],
   "source": [
    "import pandas as pd"
   ]
  },
  {
   "cell_type": "code",
   "execution_count": 5,
   "metadata": {},
   "outputs": [
    {
     "data": {
      "text/plain": [
       "(19854, 4)"
      ]
     },
     "execution_count": 5,
     "metadata": {},
     "output_type": "execute_result"
    },
    {
     "data": {
      "text/html": [
       "<div>\n",
       "<style scoped>\n",
       "    .dataframe tbody tr th:only-of-type {\n",
       "        vertical-align: middle;\n",
       "    }\n",
       "\n",
       "    .dataframe tbody tr th {\n",
       "        vertical-align: top;\n",
       "    }\n",
       "\n",
       "    .dataframe thead th {\n",
       "        text-align: right;\n",
       "    }\n",
       "</style>\n",
       "<table border=\"1\" class=\"dataframe\">\n",
       "  <thead>\n",
       "    <tr style=\"text-align: right;\">\n",
       "      <th></th>\n",
       "      <th>COMPANY_FKEY</th>\n",
       "      <th>BEST_EDGAR_TICKER</th>\n",
       "      <th>CUSIP_NUMBER</th>\n",
       "      <th>ISIN</th>\n",
       "    </tr>\n",
       "  </thead>\n",
       "  <tbody>\n",
       "    <tr>\n",
       "      <th>1</th>\n",
       "      <td>1750</td>\n",
       "      <td>AIR</td>\n",
       "      <td>000361105</td>\n",
       "      <td>US0003611052</td>\n",
       "    </tr>\n",
       "    <tr>\n",
       "      <th>2</th>\n",
       "      <td>1800</td>\n",
       "      <td>ABT</td>\n",
       "      <td>002824100</td>\n",
       "      <td>US0028241000</td>\n",
       "    </tr>\n",
       "    <tr>\n",
       "      <th>6</th>\n",
       "      <td>1853</td>\n",
       "      <td>None</td>\n",
       "      <td>61980X202</td>\n",
       "      <td>None</td>\n",
       "    </tr>\n",
       "  </tbody>\n",
       "</table>\n",
       "</div>"
      ],
      "text/plain": [
       "   COMPANY_FKEY BEST_EDGAR_TICKER CUSIP_NUMBER          ISIN\n",
       "1          1750               AIR    000361105  US0003611052\n",
       "2          1800               ABT    002824100  US0028241000\n",
       "6          1853              None    61980X202          None"
      ]
     },
     "execution_count": 5,
     "metadata": {},
     "output_type": "execute_result"
    }
   ],
   "source": [
    "cb = pd.read_parquet(r\"Z:\\dataset\\Audit_Analytics\\common\\feed12_company_block.pq\", columns=['COMPANY_FKEY', 'BEST_EDGAR_TICKER', 'CUSIP_NUMBER', 'ISIN'])\n",
    "cb.dropna(subset=['BEST_EDGAR_TICKER', 'CUSIP_NUMBER', 'ISIN'], how='all', inplace=True)\n",
    "cb.drop_duplicates(inplace=True)\n",
    "cb.shape\n",
    "cb.head(3)"
   ]
  },
  {
   "cell_type": "code",
   "execution_count": 6,
   "metadata": {},
   "outputs": [
    {
     "data": {
      "text/plain": [
       "(616951, 2)"
      ]
     },
     "execution_count": 6,
     "metadata": {},
     "output_type": "execute_result"
    },
    {
     "data": {
      "text/html": [
       "<div>\n",
       "<style scoped>\n",
       "    .dataframe tbody tr th:only-of-type {\n",
       "        vertical-align: middle;\n",
       "    }\n",
       "\n",
       "    .dataframe tbody tr th {\n",
       "        vertical-align: top;\n",
       "    }\n",
       "\n",
       "    .dataframe thead th {\n",
       "        text-align: right;\n",
       "    }\n",
       "</style>\n",
       "<table border=\"1\" class=\"dataframe\">\n",
       "  <thead>\n",
       "    <tr style=\"text-align: right;\">\n",
       "      <th></th>\n",
       "      <th>CUSIP_NUMBER</th>\n",
       "      <th>ISIN2</th>\n",
       "    </tr>\n",
       "  </thead>\n",
       "  <tbody>\n",
       "    <tr>\n",
       "      <th>63159</th>\n",
       "      <td>15135U10</td>\n",
       "      <td>CA15135U1093</td>\n",
       "    </tr>\n",
       "    <tr>\n",
       "      <th>56338</th>\n",
       "      <td>F5262B11</td>\n",
       "      <td>FR0004024222</td>\n",
       "    </tr>\n",
       "    <tr>\n",
       "      <th>56345</th>\n",
       "      <td>80603710</td>\n",
       "      <td>US8060371072</td>\n",
       "    </tr>\n",
       "  </tbody>\n",
       "</table>\n",
       "</div>"
      ],
      "text/plain": [
       "      CUSIP_NUMBER         ISIN2\n",
       "63159     15135U10  CA15135U1093\n",
       "56338     F5262B11  FR0004024222\n",
       "56345     80603710  US8060371072"
      ]
     },
     "execution_count": 6,
     "metadata": {},
     "output_type": "execute_result"
    }
   ],
   "source": [
    "lk = pd.read_parquet(r\"Z:\\dataset\\Std_Security_Code\\isin\\cusip.pq\")[['cusip', 'isin']]\n",
    "lk.columns = ['CUSIP_NUMBER', 'ISIN2']\n",
    "lk.shape\n",
    "lk.head(3)"
   ]
  },
  {
   "cell_type": "code",
   "execution_count": 7,
   "metadata": {},
   "outputs": [
    {
     "data": {
      "text/plain": [
       "(19855, 5)"
      ]
     },
     "execution_count": 7,
     "metadata": {},
     "output_type": "execute_result"
    },
    {
     "data": {
      "text/html": [
       "<div>\n",
       "<style scoped>\n",
       "    .dataframe tbody tr th:only-of-type {\n",
       "        vertical-align: middle;\n",
       "    }\n",
       "\n",
       "    .dataframe tbody tr th {\n",
       "        vertical-align: top;\n",
       "    }\n",
       "\n",
       "    .dataframe thead th {\n",
       "        text-align: right;\n",
       "    }\n",
       "</style>\n",
       "<table border=\"1\" class=\"dataframe\">\n",
       "  <thead>\n",
       "    <tr style=\"text-align: right;\">\n",
       "      <th></th>\n",
       "      <th>COMPANY_FKEY</th>\n",
       "      <th>BEST_EDGAR_TICKER</th>\n",
       "      <th>CUSIP_NUMBER</th>\n",
       "      <th>ISIN</th>\n",
       "      <th>ISIN2</th>\n",
       "    </tr>\n",
       "  </thead>\n",
       "  <tbody>\n",
       "    <tr>\n",
       "      <th>0</th>\n",
       "      <td>1750</td>\n",
       "      <td>AIR</td>\n",
       "      <td>000361105</td>\n",
       "      <td>US0003611052</td>\n",
       "      <td>US0003611052</td>\n",
       "    </tr>\n",
       "    <tr>\n",
       "      <th>1</th>\n",
       "      <td>1800</td>\n",
       "      <td>ABT</td>\n",
       "      <td>002824100</td>\n",
       "      <td>US0028241000</td>\n",
       "      <td>US0028241000</td>\n",
       "    </tr>\n",
       "    <tr>\n",
       "      <th>2</th>\n",
       "      <td>1853</td>\n",
       "      <td>None</td>\n",
       "      <td>61980X202</td>\n",
       "      <td>None</td>\n",
       "      <td>US61980X2027</td>\n",
       "    </tr>\n",
       "  </tbody>\n",
       "</table>\n",
       "</div>"
      ],
      "text/plain": [
       "   COMPANY_FKEY BEST_EDGAR_TICKER CUSIP_NUMBER          ISIN         ISIN2\n",
       "0          1750               AIR    000361105  US0003611052  US0003611052\n",
       "1          1800               ABT    002824100  US0028241000  US0028241000\n",
       "2          1853              None    61980X202          None  US61980X2027"
      ]
     },
     "execution_count": 7,
     "metadata": {},
     "output_type": "execute_result"
    }
   ],
   "source": [
    "cb2 = cb.merge(lk, on='CUSIP_NUMBER', how='left')\n",
    "cb2.shape\n",
    "cb2.head(3)"
   ]
  },
  {
   "cell_type": "code",
   "execution_count": 8,
   "metadata": {},
   "outputs": [],
   "source": [
    "cb2.loc[cb2['ISIN'].isna(), 'ISIN'] = cb2['ISIN2']"
   ]
  },
  {
   "cell_type": "code",
   "execution_count": 12,
   "metadata": {},
   "outputs": [
    {
     "data": {
      "text/plain": [
       "(163013, 2)"
      ]
     },
     "execution_count": 12,
     "metadata": {},
     "output_type": "execute_result"
    },
    {
     "data": {
      "text/html": [
       "<div>\n",
       "<style scoped>\n",
       "    .dataframe tbody tr th:only-of-type {\n",
       "        vertical-align: middle;\n",
       "    }\n",
       "\n",
       "    .dataframe tbody tr th {\n",
       "        vertical-align: top;\n",
       "    }\n",
       "\n",
       "    .dataframe thead th {\n",
       "        text-align: right;\n",
       "    }\n",
       "</style>\n",
       "<table border=\"1\" class=\"dataframe\">\n",
       "  <thead>\n",
       "    <tr style=\"text-align: right;\">\n",
       "      <th></th>\n",
       "      <th>BEST_EDGAR_TICKER</th>\n",
       "      <th>ISIN3</th>\n",
       "    </tr>\n",
       "  </thead>\n",
       "  <tbody>\n",
       "    <tr>\n",
       "      <th>0</th>\n",
       "      <td>TOU.J</td>\n",
       "      <td>CA89156V1067</td>\n",
       "    </tr>\n",
       "    <tr>\n",
       "      <th>73419</th>\n",
       "      <td>A030390</td>\n",
       "      <td>KR7030390009</td>\n",
       "    </tr>\n",
       "    <tr>\n",
       "      <th>73417</th>\n",
       "      <td>BRE2</td>\n",
       "      <td>SE0000648669</td>\n",
       "    </tr>\n",
       "  </tbody>\n",
       "</table>\n",
       "</div>"
      ],
      "text/plain": [
       "      BEST_EDGAR_TICKER         ISIN3\n",
       "0                 TOU.J  CA89156V1067\n",
       "73419           A030390  KR7030390009\n",
       "73417              BRE2  SE0000648669"
      ]
     },
     "execution_count": 12,
     "metadata": {},
     "output_type": "execute_result"
    }
   ],
   "source": [
    "lk = pd.read_parquet(r\"Z:\\dataset\\Std_Security_Code\\isin\\ticker.pq\")[['ticker', 'isin']]\n",
    "lk.columns = ['BEST_EDGAR_TICKER', 'ISIN3']\n",
    "lk.shape\n",
    "lk.head(3)"
   ]
  },
  {
   "cell_type": "code",
   "execution_count": 13,
   "metadata": {},
   "outputs": [
    {
     "data": {
      "text/plain": [
       "(33277, 6)"
      ]
     },
     "execution_count": 13,
     "metadata": {},
     "output_type": "execute_result"
    },
    {
     "data": {
      "text/html": [
       "<div>\n",
       "<style scoped>\n",
       "    .dataframe tbody tr th:only-of-type {\n",
       "        vertical-align: middle;\n",
       "    }\n",
       "\n",
       "    .dataframe tbody tr th {\n",
       "        vertical-align: top;\n",
       "    }\n",
       "\n",
       "    .dataframe thead th {\n",
       "        text-align: right;\n",
       "    }\n",
       "</style>\n",
       "<table border=\"1\" class=\"dataframe\">\n",
       "  <thead>\n",
       "    <tr style=\"text-align: right;\">\n",
       "      <th></th>\n",
       "      <th>COMPANY_FKEY</th>\n",
       "      <th>BEST_EDGAR_TICKER</th>\n",
       "      <th>CUSIP_NUMBER</th>\n",
       "      <th>ISIN</th>\n",
       "      <th>ISIN2</th>\n",
       "      <th>ISIN3</th>\n",
       "    </tr>\n",
       "  </thead>\n",
       "  <tbody>\n",
       "    <tr>\n",
       "      <th>0</th>\n",
       "      <td>1750</td>\n",
       "      <td>AIR</td>\n",
       "      <td>000361105</td>\n",
       "      <td>US0003611052</td>\n",
       "      <td>US0003611052</td>\n",
       "      <td>FR0000183790</td>\n",
       "    </tr>\n",
       "    <tr>\n",
       "      <th>1</th>\n",
       "      <td>1750</td>\n",
       "      <td>AIR</td>\n",
       "      <td>000361105</td>\n",
       "      <td>US0003611052</td>\n",
       "      <td>US0003611052</td>\n",
       "      <td>NL0000235190</td>\n",
       "    </tr>\n",
       "    <tr>\n",
       "      <th>2</th>\n",
       "      <td>1750</td>\n",
       "      <td>AIR</td>\n",
       "      <td>000361105</td>\n",
       "      <td>US0003611052</td>\n",
       "      <td>US0003611052</td>\n",
       "      <td>US0092791005</td>\n",
       "    </tr>\n",
       "  </tbody>\n",
       "</table>\n",
       "</div>"
      ],
      "text/plain": [
       "   COMPANY_FKEY BEST_EDGAR_TICKER CUSIP_NUMBER          ISIN         ISIN2  \\\n",
       "0          1750               AIR    000361105  US0003611052  US0003611052   \n",
       "1          1750               AIR    000361105  US0003611052  US0003611052   \n",
       "2          1750               AIR    000361105  US0003611052  US0003611052   \n",
       "\n",
       "          ISIN3  \n",
       "0  FR0000183790  \n",
       "1  NL0000235190  \n",
       "2  US0092791005  "
      ]
     },
     "execution_count": 13,
     "metadata": {},
     "output_type": "execute_result"
    }
   ],
   "source": [
    "cb3 = cb2.merge(lk, on='BEST_EDGAR_TICKER', how='left')\n",
    "cb3.shape\n",
    "cb3.head(3)"
   ]
  },
  {
   "cell_type": "code",
   "execution_count": 14,
   "metadata": {},
   "outputs": [],
   "source": [
    "cb3.loc[cb3['ISIN'].isna(), 'ISIN'] = cb3['ISIN3']"
   ]
  },
  {
   "cell_type": "markdown",
   "metadata": {},
   "source": [
    "# CUSIP"
   ]
  },
  {
   "cell_type": "code",
   "execution_count": 25,
   "metadata": {},
   "outputs": [
    {
     "data": {
      "text/plain": [
       "(14661, 4)"
      ]
     },
     "execution_count": 25,
     "metadata": {},
     "output_type": "execute_result"
    },
    {
     "data": {
      "text/html": [
       "<div>\n",
       "<style scoped>\n",
       "    .dataframe tbody tr th:only-of-type {\n",
       "        vertical-align: middle;\n",
       "    }\n",
       "\n",
       "    .dataframe tbody tr th {\n",
       "        vertical-align: top;\n",
       "    }\n",
       "\n",
       "    .dataframe thead th {\n",
       "        text-align: right;\n",
       "    }\n",
       "</style>\n",
       "<table border=\"1\" class=\"dataframe\">\n",
       "  <thead>\n",
       "    <tr style=\"text-align: right;\">\n",
       "      <th></th>\n",
       "      <th>cusip</th>\n",
       "      <th>isin</th>\n",
       "      <th>source</th>\n",
       "      <th>update</th>\n",
       "    </tr>\n",
       "  </thead>\n",
       "  <tbody>\n",
       "    <tr>\n",
       "      <th>22911</th>\n",
       "      <td>87166Q109</td>\n",
       "      <td>US87166Q1094</td>\n",
       "      <td>Audit Analytics</td>\n",
       "      <td>2024-05-05</td>\n",
       "    </tr>\n",
       "    <tr>\n",
       "      <th>23916</th>\n",
       "      <td>17039A106</td>\n",
       "      <td>CA17039A1066</td>\n",
       "      <td>Audit Analytics</td>\n",
       "      <td>2024-05-05</td>\n",
       "    </tr>\n",
       "    <tr>\n",
       "      <th>10932</th>\n",
       "      <td>00433U209</td>\n",
       "      <td>US00433U2096</td>\n",
       "      <td>Audit Analytics</td>\n",
       "      <td>2024-05-05</td>\n",
       "    </tr>\n",
       "  </tbody>\n",
       "</table>\n",
       "</div>"
      ],
      "text/plain": [
       "           cusip          isin           source      update\n",
       "22911  87166Q109  US87166Q1094  Audit Analytics  2024-05-05\n",
       "23916  17039A106  CA17039A1066  Audit Analytics  2024-05-05\n",
       "10932  00433U209  US00433U2096  Audit Analytics  2024-05-05"
      ]
     },
     "execution_count": 25,
     "metadata": {},
     "output_type": "execute_result"
    }
   ],
   "source": [
    "new = cb3[['CUSIP_NUMBER', 'ISIN']].drop_duplicates().dropna()\n",
    "new.columns = ['cusip', 'isin']\n",
    "new['source'] = 'Audit Analytics'\n",
    "new['update'] = pd.Timestamp.now().date()\n",
    "new.shape\n",
    "new.sample(3)"
   ]
  },
  {
   "cell_type": "code",
   "execution_count": 26,
   "metadata": {},
   "outputs": [
    {
     "data": {
      "text/plain": [
       "(616951, 4)"
      ]
     },
     "execution_count": 26,
     "metadata": {},
     "output_type": "execute_result"
    },
    {
     "data": {
      "text/html": [
       "<div>\n",
       "<style scoped>\n",
       "    .dataframe tbody tr th:only-of-type {\n",
       "        vertical-align: middle;\n",
       "    }\n",
       "\n",
       "    .dataframe tbody tr th {\n",
       "        vertical-align: top;\n",
       "    }\n",
       "\n",
       "    .dataframe thead th {\n",
       "        text-align: right;\n",
       "    }\n",
       "</style>\n",
       "<table border=\"1\" class=\"dataframe\">\n",
       "  <thead>\n",
       "    <tr style=\"text-align: right;\">\n",
       "      <th></th>\n",
       "      <th>isin</th>\n",
       "      <th>cusip</th>\n",
       "      <th>source</th>\n",
       "      <th>update</th>\n",
       "    </tr>\n",
       "  </thead>\n",
       "  <tbody>\n",
       "    <tr>\n",
       "      <th>63159</th>\n",
       "      <td>CA15135U1093</td>\n",
       "      <td>15135U10</td>\n",
       "      <td>Refinitiv ESG</td>\n",
       "      <td>2022-06-17</td>\n",
       "    </tr>\n",
       "    <tr>\n",
       "      <th>56338</th>\n",
       "      <td>FR0004024222</td>\n",
       "      <td>F5262B11</td>\n",
       "      <td>Refinitiv ESG</td>\n",
       "      <td>2022-06-17</td>\n",
       "    </tr>\n",
       "    <tr>\n",
       "      <th>56345</th>\n",
       "      <td>US8060371072</td>\n",
       "      <td>80603710</td>\n",
       "      <td>Refinitiv ESG</td>\n",
       "      <td>2022-06-17</td>\n",
       "    </tr>\n",
       "  </tbody>\n",
       "</table>\n",
       "</div>"
      ],
      "text/plain": [
       "               isin     cusip         source     update\n",
       "63159  CA15135U1093  15135U10  Refinitiv ESG 2022-06-17\n",
       "56338  FR0004024222  F5262B11  Refinitiv ESG 2022-06-17\n",
       "56345  US8060371072  80603710  Refinitiv ESG 2022-06-17"
      ]
     },
     "execution_count": 26,
     "metadata": {},
     "output_type": "execute_result"
    }
   ],
   "source": [
    "lk = pd.read_parquet(r\"Z:\\dataset\\Std_Security_Code\\isin\\cusip.pq\")\n",
    "lk.shape\n",
    "lk.head(3)"
   ]
  },
  {
   "cell_type": "code",
   "execution_count": 27,
   "metadata": {},
   "outputs": [
    {
     "data": {
      "text/plain": [
       "(620502, 4)"
      ]
     },
     "execution_count": 27,
     "metadata": {},
     "output_type": "execute_result"
    },
    {
     "data": {
      "text/html": [
       "<div>\n",
       "<style scoped>\n",
       "    .dataframe tbody tr th:only-of-type {\n",
       "        vertical-align: middle;\n",
       "    }\n",
       "\n",
       "    .dataframe tbody tr th {\n",
       "        vertical-align: top;\n",
       "    }\n",
       "\n",
       "    .dataframe thead th {\n",
       "        text-align: right;\n",
       "    }\n",
       "</style>\n",
       "<table border=\"1\" class=\"dataframe\">\n",
       "  <thead>\n",
       "    <tr style=\"text-align: right;\">\n",
       "      <th></th>\n",
       "      <th>isin</th>\n",
       "      <th>cusip</th>\n",
       "      <th>source</th>\n",
       "      <th>update</th>\n",
       "    </tr>\n",
       "  </thead>\n",
       "  <tbody>\n",
       "    <tr>\n",
       "      <th>9614</th>\n",
       "      <td>AEDFXA0M6V00</td>\n",
       "      <td>M2851K10</td>\n",
       "      <td>Refinitiv ESG</td>\n",
       "      <td>2022-06-17</td>\n",
       "    </tr>\n",
       "    <tr>\n",
       "      <th>46321</th>\n",
       "      <td>AGP168751099</td>\n",
       "      <td>P41758106</td>\n",
       "      <td>Compustat NA</td>\n",
       "      <td>2022-06-16</td>\n",
       "    </tr>\n",
       "    <tr>\n",
       "      <th>8759</th>\n",
       "      <td>AGP8696W1045</td>\n",
       "      <td>P8696W10</td>\n",
       "      <td>Refinitiv ESG</td>\n",
       "      <td>2022-06-17</td>\n",
       "    </tr>\n",
       "  </tbody>\n",
       "</table>\n",
       "</div>"
      ],
      "text/plain": [
       "               isin      cusip         source     update\n",
       "9614   AEDFXA0M6V00   M2851K10  Refinitiv ESG 2022-06-17\n",
       "46321  AGP168751099  P41758106   Compustat NA 2022-06-16\n",
       "8759   AGP8696W1045   P8696W10  Refinitiv ESG 2022-06-17"
      ]
     },
     "execution_count": 27,
     "metadata": {},
     "output_type": "execute_result"
    }
   ],
   "source": [
    "lkn = pd.concat([lk, new], ignore_index=True)\n",
    "lkn['update'] = pd.to_datetime(lkn['update'])\n",
    "lkn.sort_values(['isin', 'cusip', 'update'], ascending=True, inplace=True)\n",
    "lkn.drop_duplicates(subset=['isin', 'cusip'], keep='last', inplace=True)\n",
    "lkn.shape\n",
    "lkn.head(3)"
   ]
  },
  {
   "cell_type": "code",
   "execution_count": 28,
   "metadata": {},
   "outputs": [
    {
     "data": {
      "text/plain": [
       "source\n",
       "FISD               561091\n",
       "Compustat NA        34531\n",
       "Audit Analytics     14661\n",
       "Refinitiv ESG       10219\n",
       "Name: count, dtype: int64"
      ]
     },
     "execution_count": 28,
     "metadata": {},
     "output_type": "execute_result"
    }
   ],
   "source": [
    "lkn['source'].value_counts()"
   ]
  },
  {
   "cell_type": "code",
   "execution_count": 29,
   "metadata": {},
   "outputs": [],
   "source": [
    "lkn.to_parquet(r\"Z:\\dataset\\Std_Security_Code\\isin\\cusip.pq\", index=False)"
   ]
  },
  {
   "cell_type": "markdown",
   "metadata": {},
   "source": [
    "# Ticker"
   ]
  },
  {
   "cell_type": "code",
   "execution_count": 30,
   "metadata": {},
   "outputs": [
    {
     "data": {
      "text/plain": [
       "(10105, 4)"
      ]
     },
     "execution_count": 30,
     "metadata": {},
     "output_type": "execute_result"
    },
    {
     "data": {
      "text/html": [
       "<div>\n",
       "<style scoped>\n",
       "    .dataframe tbody tr th:only-of-type {\n",
       "        vertical-align: middle;\n",
       "    }\n",
       "\n",
       "    .dataframe tbody tr th {\n",
       "        vertical-align: top;\n",
       "    }\n",
       "\n",
       "    .dataframe thead th {\n",
       "        text-align: right;\n",
       "    }\n",
       "</style>\n",
       "<table border=\"1\" class=\"dataframe\">\n",
       "  <thead>\n",
       "    <tr style=\"text-align: right;\">\n",
       "      <th></th>\n",
       "      <th>ticker</th>\n",
       "      <th>isin</th>\n",
       "      <th>source</th>\n",
       "      <th>update</th>\n",
       "    </tr>\n",
       "  </thead>\n",
       "  <tbody>\n",
       "    <tr>\n",
       "      <th>12066</th>\n",
       "      <td>BASWQ</td>\n",
       "      <td>US06985P2092</td>\n",
       "      <td>Audit Analytics</td>\n",
       "      <td>2024-05-05</td>\n",
       "    </tr>\n",
       "    <tr>\n",
       "      <th>3849</th>\n",
       "      <td>CFG</td>\n",
       "      <td>US1746101054</td>\n",
       "      <td>Audit Analytics</td>\n",
       "      <td>2024-05-05</td>\n",
       "    </tr>\n",
       "    <tr>\n",
       "      <th>15680</th>\n",
       "      <td>MLFB</td>\n",
       "      <td>US5608141058</td>\n",
       "      <td>Audit Analytics</td>\n",
       "      <td>2024-05-05</td>\n",
       "    </tr>\n",
       "  </tbody>\n",
       "</table>\n",
       "</div>"
      ],
      "text/plain": [
       "      ticker          isin           source      update\n",
       "12066  BASWQ  US06985P2092  Audit Analytics  2024-05-05\n",
       "3849     CFG  US1746101054  Audit Analytics  2024-05-05\n",
       "15680   MLFB  US5608141058  Audit Analytics  2024-05-05"
      ]
     },
     "execution_count": 30,
     "metadata": {},
     "output_type": "execute_result"
    }
   ],
   "source": [
    "new = cb3[['BEST_EDGAR_TICKER', 'ISIN']].drop_duplicates().dropna()\n",
    "new.columns = ['ticker', 'isin']\n",
    "new['source'] = 'Audit Analytics'\n",
    "new['update'] = pd.Timestamp.now().date()\n",
    "new.shape\n",
    "new.sample(3)"
   ]
  },
  {
   "cell_type": "code",
   "execution_count": 31,
   "metadata": {},
   "outputs": [
    {
     "data": {
      "text/plain": [
       "(163013, 4)"
      ]
     },
     "execution_count": 31,
     "metadata": {},
     "output_type": "execute_result"
    },
    {
     "data": {
      "text/html": [
       "<div>\n",
       "<style scoped>\n",
       "    .dataframe tbody tr th:only-of-type {\n",
       "        vertical-align: middle;\n",
       "    }\n",
       "\n",
       "    .dataframe tbody tr th {\n",
       "        vertical-align: top;\n",
       "    }\n",
       "\n",
       "    .dataframe thead th {\n",
       "        text-align: right;\n",
       "    }\n",
       "</style>\n",
       "<table border=\"1\" class=\"dataframe\">\n",
       "  <thead>\n",
       "    <tr style=\"text-align: right;\">\n",
       "      <th></th>\n",
       "      <th>isin</th>\n",
       "      <th>ticker</th>\n",
       "      <th>source</th>\n",
       "      <th>update</th>\n",
       "    </tr>\n",
       "  </thead>\n",
       "  <tbody>\n",
       "    <tr>\n",
       "      <th>0</th>\n",
       "      <td>CA89156V1067</td>\n",
       "      <td>TOU.J</td>\n",
       "      <td>Refinitiv ESG</td>\n",
       "      <td>2022-06-17</td>\n",
       "    </tr>\n",
       "    <tr>\n",
       "      <th>73419</th>\n",
       "      <td>KR7030390009</td>\n",
       "      <td>A030390</td>\n",
       "      <td>S&amp;P ESG</td>\n",
       "      <td>2022-06-17</td>\n",
       "    </tr>\n",
       "    <tr>\n",
       "      <th>73417</th>\n",
       "      <td>SE0000648669</td>\n",
       "      <td>BRE2</td>\n",
       "      <td>S&amp;P ESG</td>\n",
       "      <td>2022-06-17</td>\n",
       "    </tr>\n",
       "  </tbody>\n",
       "</table>\n",
       "</div>"
      ],
      "text/plain": [
       "               isin   ticker         source     update\n",
       "0      CA89156V1067    TOU.J  Refinitiv ESG 2022-06-17\n",
       "73419  KR7030390009  A030390        S&P ESG 2022-06-17\n",
       "73417  SE0000648669     BRE2        S&P ESG 2022-06-17"
      ]
     },
     "execution_count": 31,
     "metadata": {},
     "output_type": "execute_result"
    }
   ],
   "source": [
    "lk = pd.read_parquet(r\"Z:\\dataset\\Std_Security_Code\\isin\\ticker.pq\")\n",
    "lk.shape\n",
    "lk.head(3)"
   ]
  },
  {
   "cell_type": "code",
   "execution_count": 32,
   "metadata": {},
   "outputs": [
    {
     "data": {
      "text/plain": [
       "(164746, 4)"
      ]
     },
     "execution_count": 32,
     "metadata": {},
     "output_type": "execute_result"
    },
    {
     "data": {
      "text/html": [
       "<div>\n",
       "<style scoped>\n",
       "    .dataframe tbody tr th:only-of-type {\n",
       "        vertical-align: middle;\n",
       "    }\n",
       "\n",
       "    .dataframe tbody tr th {\n",
       "        vertical-align: top;\n",
       "    }\n",
       "\n",
       "    .dataframe thead th {\n",
       "        text-align: right;\n",
       "    }\n",
       "</style>\n",
       "<table border=\"1\" class=\"dataframe\">\n",
       "  <thead>\n",
       "    <tr style=\"text-align: right;\">\n",
       "      <th></th>\n",
       "      <th>isin</th>\n",
       "      <th>ticker</th>\n",
       "      <th>source</th>\n",
       "      <th>update</th>\n",
       "    </tr>\n",
       "  </thead>\n",
       "  <tbody>\n",
       "    <tr>\n",
       "      <th>36707</th>\n",
       "      <td>AE0005802543</td>\n",
       "      <td>DIC</td>\n",
       "      <td>Sustainalytics</td>\n",
       "      <td>2022-06-17</td>\n",
       "    </tr>\n",
       "    <tr>\n",
       "      <th>36736</th>\n",
       "      <td>AE0005802550</td>\n",
       "      <td>DIB</td>\n",
       "      <td>Sustainalytics</td>\n",
       "      <td>2022-06-17</td>\n",
       "    </tr>\n",
       "    <tr>\n",
       "      <th>36200</th>\n",
       "      <td>AE0005802576</td>\n",
       "      <td>EMAAR</td>\n",
       "      <td>Sustainalytics</td>\n",
       "      <td>2022-06-17</td>\n",
       "    </tr>\n",
       "  </tbody>\n",
       "</table>\n",
       "</div>"
      ],
      "text/plain": [
       "               isin ticker          source     update\n",
       "36707  AE0005802543    DIC  Sustainalytics 2022-06-17\n",
       "36736  AE0005802550    DIB  Sustainalytics 2022-06-17\n",
       "36200  AE0005802576  EMAAR  Sustainalytics 2022-06-17"
      ]
     },
     "execution_count": 32,
     "metadata": {},
     "output_type": "execute_result"
    }
   ],
   "source": [
    "lkn = pd.concat([lk, new], ignore_index=True)\n",
    "lkn['update'] = pd.to_datetime(lkn['update'])\n",
    "lkn.sort_values(['isin', 'ticker', 'update'], ascending=True, inplace=True)\n",
    "lkn.drop_duplicates(subset=['isin', 'ticker'], keep='last', inplace=True)\n",
    "lkn.shape\n",
    "lkn.head(3)"
   ]
  },
  {
   "cell_type": "code",
   "execution_count": 33,
   "metadata": {},
   "outputs": [
    {
     "data": {
      "text/plain": [
       "source\n",
       "S&P ESG            91271\n",
       "Compustat NA       45508\n",
       "Refinitiv ESG      15250\n",
       "Audit Analytics    10105\n",
       "Sustainalytics      2612\n",
       "Name: count, dtype: int64"
      ]
     },
     "execution_count": 33,
     "metadata": {},
     "output_type": "execute_result"
    }
   ],
   "source": [
    "lkn['source'].value_counts()"
   ]
  },
  {
   "cell_type": "code",
   "execution_count": 34,
   "metadata": {},
   "outputs": [],
   "source": [
    "lkn.to_parquet(r\"Z:\\dataset\\Std_Security_Code\\isin\\ticker.pq\", index=False)"
   ]
  },
  {
   "cell_type": "markdown",
   "metadata": {},
   "source": [
    "# Fkey"
   ]
  },
  {
   "cell_type": "code",
   "execution_count": 36,
   "metadata": {},
   "outputs": [
    {
     "data": {
      "text/plain": [
       "(18406, 4)"
      ]
     },
     "execution_count": 36,
     "metadata": {},
     "output_type": "execute_result"
    },
    {
     "data": {
      "text/html": [
       "<div>\n",
       "<style scoped>\n",
       "    .dataframe tbody tr th:only-of-type {\n",
       "        vertical-align: middle;\n",
       "    }\n",
       "\n",
       "    .dataframe tbody tr th {\n",
       "        vertical-align: top;\n",
       "    }\n",
       "\n",
       "    .dataframe thead th {\n",
       "        text-align: right;\n",
       "    }\n",
       "</style>\n",
       "<table border=\"1\" class=\"dataframe\">\n",
       "  <thead>\n",
       "    <tr style=\"text-align: right;\">\n",
       "      <th></th>\n",
       "      <th>company_fkey</th>\n",
       "      <th>isin</th>\n",
       "      <th>source</th>\n",
       "      <th>update</th>\n",
       "    </tr>\n",
       "  </thead>\n",
       "  <tbody>\n",
       "    <tr>\n",
       "      <th>31309</th>\n",
       "      <td>1847806</td>\n",
       "      <td>SGXZ34583559</td>\n",
       "      <td>Audit Analytics</td>\n",
       "      <td>2024-05-05</td>\n",
       "    </tr>\n",
       "    <tr>\n",
       "      <th>16843</th>\n",
       "      <td>1353615</td>\n",
       "      <td>CA31863L1040</td>\n",
       "      <td>Audit Analytics</td>\n",
       "      <td>2024-05-05</td>\n",
       "    </tr>\n",
       "    <tr>\n",
       "      <th>18311</th>\n",
       "      <td>1398026</td>\n",
       "      <td>US87855G2066</td>\n",
       "      <td>Audit Analytics</td>\n",
       "      <td>2024-05-05</td>\n",
       "    </tr>\n",
       "  </tbody>\n",
       "</table>\n",
       "</div>"
      ],
      "text/plain": [
       "       company_fkey          isin           source     update\n",
       "31309       1847806  SGXZ34583559  Audit Analytics 2024-05-05\n",
       "16843       1353615  CA31863L1040  Audit Analytics 2024-05-05\n",
       "18311       1398026  US87855G2066  Audit Analytics 2024-05-05"
      ]
     },
     "execution_count": 36,
     "metadata": {},
     "output_type": "execute_result"
    }
   ],
   "source": [
    "new = cb3[['COMPANY_FKEY', 'ISIN']].drop_duplicates().dropna()\n",
    "new.columns = ['company_fkey', 'isin']\n",
    "new['source'] = 'Audit Analytics'\n",
    "new['update'] = pd.Timestamp.now().date()\n",
    "new['update'] = pd.to_datetime(new['update'])\n",
    "new.drop_duplicates(subset=['company_fkey', 'isin'], keep='last', inplace=True)\n",
    "new.shape\n",
    "new.sample(3)"
   ]
  },
  {
   "cell_type": "code",
   "execution_count": 37,
   "metadata": {},
   "outputs": [],
   "source": [
    "new.to_parquet(r\"Z:\\dataset\\Std_Security_Code\\isin\\company_fkey.pq\", index=False)"
   ]
  },
  {
   "cell_type": "code",
   "execution_count": null,
   "metadata": {},
   "outputs": [],
   "source": []
  }
 ],
 "metadata": {
  "kernelspec": {
   "display_name": "py312",
   "language": "python",
   "name": "python3"
  },
  "language_info": {
   "codemirror_mode": {
    "name": "ipython",
    "version": 3
   },
   "file_extension": ".py",
   "mimetype": "text/x-python",
   "name": "python",
   "nbconvert_exporter": "python",
   "pygments_lexer": "ipython3",
   "version": "3.12.2"
  }
 },
 "nbformat": 4,
 "nbformat_minor": 2
}
