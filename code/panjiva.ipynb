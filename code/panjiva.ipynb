{
 "cells": [
  {
   "cell_type": "code",
   "execution_count": 1,
   "metadata": {},
   "outputs": [],
   "source": [
    "import pandas as pd"
   ]
  },
  {
   "cell_type": "code",
   "execution_count": 5,
   "metadata": {},
   "outputs": [
    {
     "name": "stderr",
     "output_type": "stream",
     "text": [
      "/tmp/ipykernel_139698/3041450993.py:1: DtypeWarning: Columns (2,5,6,7,9,10,11,12,16,17) have mixed types. Specify dtype option on import or set low_memory=False.\n",
      "  df = pd.read_csv('/home/data/dataset/Panjiva/ciq/ciqcompany.csv.gz')\n"
     ]
    },
    {
     "data": {
      "text/plain": [
       "(17497523, 23)"
      ]
     },
     "execution_count": 5,
     "metadata": {},
     "output_type": "execute_result"
    },
    {
     "data": {
      "text/html": [
       "<div>\n",
       "<style scoped>\n",
       "    .dataframe tbody tr th:only-of-type {\n",
       "        vertical-align: middle;\n",
       "    }\n",
       "\n",
       "    .dataframe tbody tr th {\n",
       "        vertical-align: top;\n",
       "    }\n",
       "\n",
       "    .dataframe thead th {\n",
       "        text-align: right;\n",
       "    }\n",
       "</style>\n",
       "<table border=\"1\" class=\"dataframe\">\n",
       "  <thead>\n",
       "    <tr style=\"text-align: right;\">\n",
       "      <th></th>\n",
       "      <th>companyid</th>\n",
       "      <th>companyname</th>\n",
       "      <th>city</th>\n",
       "      <th>companystatustypeid</th>\n",
       "      <th>companytypeid</th>\n",
       "      <th>officefaxvalue</th>\n",
       "      <th>officephonevalue</th>\n",
       "      <th>otherphonevalue</th>\n",
       "      <th>simpleindustryid</th>\n",
       "      <th>streetaddress</th>\n",
       "      <th>streetaddress2</th>\n",
       "      <th>streetaddress3</th>\n",
       "      <th>streetaddress4</th>\n",
       "      <th>yearfounded</th>\n",
       "      <th>monthfounded</th>\n",
       "      <th>dayfounded</th>\n",
       "      <th>zipcode</th>\n",
       "      <th>webpage</th>\n",
       "      <th>reportingtemplatetypeid</th>\n",
       "      <th>countryid</th>\n",
       "      <th>stateid</th>\n",
       "      <th>incorporationcountryid</th>\n",
       "      <th>incorporationstateid</th>\n",
       "    </tr>\n",
       "  </thead>\n",
       "  <tbody>\n",
       "    <tr>\n",
       "      <th>0</th>\n",
       "      <td>18493</td>\n",
       "      <td>DC Venture Partners</td>\n",
       "      <td>Atlanta</td>\n",
       "      <td>5</td>\n",
       "      <td>2</td>\n",
       "      <td>NaN</td>\n",
       "      <td>770-612-9190</td>\n",
       "      <td>NaN</td>\n",
       "      <td>50.0</td>\n",
       "      <td>1103 Riverbend Club Drive</td>\n",
       "      <td>NaN</td>\n",
       "      <td>NaN</td>\n",
       "      <td>NaN</td>\n",
       "      <td>1998.0</td>\n",
       "      <td>NaN</td>\n",
       "      <td>NaN</td>\n",
       "      <td>30339-2811</td>\n",
       "      <td>NaN</td>\n",
       "      <td>1.0</td>\n",
       "      <td>213.0</td>\n",
       "      <td>13.0</td>\n",
       "      <td>NaN</td>\n",
       "      <td>NaN</td>\n",
       "    </tr>\n",
       "    <tr>\n",
       "      <th>1</th>\n",
       "      <td>18495</td>\n",
       "      <td>13i Capital Corporation</td>\n",
       "      <td>Oak Brook</td>\n",
       "      <td>1</td>\n",
       "      <td>2</td>\n",
       "      <td>800-849-4183</td>\n",
       "      <td>630-620-2255</td>\n",
       "      <td>NaN</td>\n",
       "      <td>50.0</td>\n",
       "      <td>2021 Midwest Road</td>\n",
       "      <td>Suite 200</td>\n",
       "      <td>NaN</td>\n",
       "      <td>NaN</td>\n",
       "      <td>1993.0</td>\n",
       "      <td>NaN</td>\n",
       "      <td>NaN</td>\n",
       "      <td>60523</td>\n",
       "      <td>www.13icapital.com</td>\n",
       "      <td>1.0</td>\n",
       "      <td>213.0</td>\n",
       "      <td>17.0</td>\n",
       "      <td>NaN</td>\n",
       "      <td>NaN</td>\n",
       "    </tr>\n",
       "    <tr>\n",
       "      <th>2</th>\n",
       "      <td>18499</td>\n",
       "      <td>21 International Holdings Inc.</td>\n",
       "      <td>NaN</td>\n",
       "      <td>1</td>\n",
       "      <td>2</td>\n",
       "      <td>NaN</td>\n",
       "      <td>NaN</td>\n",
       "      <td>NaN</td>\n",
       "      <td>50.0</td>\n",
       "      <td>NaN</td>\n",
       "      <td>NaN</td>\n",
       "      <td>NaN</td>\n",
       "      <td>NaN</td>\n",
       "      <td>NaN</td>\n",
       "      <td>NaN</td>\n",
       "      <td>NaN</td>\n",
       "      <td>NaN</td>\n",
       "      <td>NaN</td>\n",
       "      <td>1.0</td>\n",
       "      <td>213.0</td>\n",
       "      <td>NaN</td>\n",
       "      <td>NaN</td>\n",
       "      <td>NaN</td>\n",
       "    </tr>\n",
       "  </tbody>\n",
       "</table>\n",
       "</div>"
      ],
      "text/plain": [
       "   companyid                     companyname       city  companystatustypeid  \\\n",
       "0      18493             DC Venture Partners    Atlanta                    5   \n",
       "1      18495         13i Capital Corporation  Oak Brook                    1   \n",
       "2      18499  21 International Holdings Inc.        NaN                    1   \n",
       "\n",
       "   companytypeid officefaxvalue officephonevalue otherphonevalue  \\\n",
       "0              2            NaN     770-612-9190             NaN   \n",
       "1              2   800-849-4183     630-620-2255             NaN   \n",
       "2              2            NaN              NaN             NaN   \n",
       "\n",
       "   simpleindustryid              streetaddress streetaddress2 streetaddress3  \\\n",
       "0              50.0  1103 Riverbend Club Drive            NaN            NaN   \n",
       "1              50.0          2021 Midwest Road      Suite 200            NaN   \n",
       "2              50.0                        NaN            NaN            NaN   \n",
       "\n",
       "  streetaddress4  yearfounded  monthfounded  dayfounded     zipcode  \\\n",
       "0            NaN       1998.0           NaN         NaN  30339-2811   \n",
       "1            NaN       1993.0           NaN         NaN       60523   \n",
       "2            NaN          NaN           NaN         NaN         NaN   \n",
       "\n",
       "              webpage  reportingtemplatetypeid  countryid  stateid  \\\n",
       "0                 NaN                      1.0      213.0     13.0   \n",
       "1  www.13icapital.com                      1.0      213.0     17.0   \n",
       "2                 NaN                      1.0      213.0      NaN   \n",
       "\n",
       "   incorporationcountryid incorporationstateid  \n",
       "0                     NaN                  NaN  \n",
       "1                     NaN                  NaN  \n",
       "2                     NaN                  NaN  "
      ]
     },
     "execution_count": 5,
     "metadata": {},
     "output_type": "execute_result"
    }
   ],
   "source": [
    "df = pd.read_csv('/home/data/dataset/Panjiva/ciq/ciqcompany.csv.gz')\n",
    "df.shape\n",
    "df.head(3)"
   ]
  },
  {
   "cell_type": "code",
   "execution_count": 7,
   "metadata": {},
   "outputs": [
    {
     "data": {
      "text/plain": [
       "(17497523, 2)"
      ]
     },
     "execution_count": 7,
     "metadata": {},
     "output_type": "execute_result"
    },
    {
     "data": {
      "text/html": [
       "<div>\n",
       "<style scoped>\n",
       "    .dataframe tbody tr th:only-of-type {\n",
       "        vertical-align: middle;\n",
       "    }\n",
       "\n",
       "    .dataframe tbody tr th {\n",
       "        vertical-align: top;\n",
       "    }\n",
       "\n",
       "    .dataframe thead th {\n",
       "        text-align: right;\n",
       "    }\n",
       "</style>\n",
       "<table border=\"1\" class=\"dataframe\">\n",
       "  <thead>\n",
       "    <tr style=\"text-align: right;\">\n",
       "      <th></th>\n",
       "      <th>companyid</th>\n",
       "      <th>companyname</th>\n",
       "    </tr>\n",
       "  </thead>\n",
       "  <tbody>\n",
       "    <tr>\n",
       "      <th>0</th>\n",
       "      <td>18493</td>\n",
       "      <td>DC Venture Partners</td>\n",
       "    </tr>\n",
       "    <tr>\n",
       "      <th>1</th>\n",
       "      <td>18495</td>\n",
       "      <td>13i Capital Corporation</td>\n",
       "    </tr>\n",
       "    <tr>\n",
       "      <th>2</th>\n",
       "      <td>18499</td>\n",
       "      <td>21 International Holdings Inc.</td>\n",
       "    </tr>\n",
       "  </tbody>\n",
       "</table>\n",
       "</div>"
      ],
      "text/plain": [
       "   companyid                     companyname\n",
       "0      18493             DC Venture Partners\n",
       "1      18495         13i Capital Corporation\n",
       "2      18499  21 International Holdings Inc."
      ]
     },
     "execution_count": 7,
     "metadata": {},
     "output_type": "execute_result"
    }
   ],
   "source": [
    "cid_cname = df[['companyid', 'companyname']].drop_duplicates()\n",
    "cid_cname.shape\n",
    "cid_cname.head(3)"
   ]
  },
  {
   "cell_type": "code",
   "execution_count": null,
   "metadata": {},
   "outputs": [],
   "source": []
  },
  {
   "cell_type": "code",
   "execution_count": 8,
   "metadata": {},
   "outputs": [
    {
     "data": {
      "text/plain": [
       "(11446247, 7)"
      ]
     },
     "execution_count": 8,
     "metadata": {},
     "output_type": "execute_result"
    },
    {
     "data": {
      "text/html": [
       "<div>\n",
       "<style scoped>\n",
       "    .dataframe tbody tr th:only-of-type {\n",
       "        vertical-align: middle;\n",
       "    }\n",
       "\n",
       "    .dataframe tbody tr th {\n",
       "        vertical-align: top;\n",
       "    }\n",
       "\n",
       "    .dataframe thead th {\n",
       "        text-align: right;\n",
       "    }\n",
       "</style>\n",
       "<table border=\"1\" class=\"dataframe\">\n",
       "  <thead>\n",
       "    <tr style=\"text-align: right;\">\n",
       "      <th></th>\n",
       "      <th>securityid</th>\n",
       "      <th>companyid</th>\n",
       "      <th>securityname</th>\n",
       "      <th>securitystartdate</th>\n",
       "      <th>securityenddate</th>\n",
       "      <th>securitysubtypeid</th>\n",
       "      <th>primaryflag</th>\n",
       "    </tr>\n",
       "  </thead>\n",
       "  <tbody>\n",
       "    <tr>\n",
       "      <th>0</th>\n",
       "      <td>2585870</td>\n",
       "      <td>3102567</td>\n",
       "      <td>Old Common Shares</td>\n",
       "      <td>1986-12-30 00:00:00</td>\n",
       "      <td>1996-07-12 00:00:00</td>\n",
       "      <td>1</td>\n",
       "      <td>0</td>\n",
       "    </tr>\n",
       "    <tr>\n",
       "      <th>1</th>\n",
       "      <td>2585872</td>\n",
       "      <td>3102567</td>\n",
       "      <td>Class A Multiple Voting Shares</td>\n",
       "      <td>2000-10-02 00:00:00</td>\n",
       "      <td>2005-10-17 00:00:00</td>\n",
       "      <td>1</td>\n",
       "      <td>0</td>\n",
       "    </tr>\n",
       "    <tr>\n",
       "      <th>2</th>\n",
       "      <td>2585874</td>\n",
       "      <td>3102567</td>\n",
       "      <td>Class B Subordinate Voting Shares</td>\n",
       "      <td>2000-10-02 00:00:00</td>\n",
       "      <td>2005-10-17 00:00:00</td>\n",
       "      <td>1</td>\n",
       "      <td>1</td>\n",
       "    </tr>\n",
       "  </tbody>\n",
       "</table>\n",
       "</div>"
      ],
      "text/plain": [
       "   securityid  companyid                       securityname  \\\n",
       "0     2585870    3102567                  Old Common Shares   \n",
       "1     2585872    3102567     Class A Multiple Voting Shares   \n",
       "2     2585874    3102567  Class B Subordinate Voting Shares   \n",
       "\n",
       "     securitystartdate      securityenddate  securitysubtypeid primaryflag  \n",
       "0  1986-12-30 00:00:00  1996-07-12 00:00:00                  1           0  \n",
       "1  2000-10-02 00:00:00  2005-10-17 00:00:00                  1           0  \n",
       "2  2000-10-02 00:00:00  2005-10-17 00:00:00                  1           1  "
      ]
     },
     "execution_count": 8,
     "metadata": {},
     "output_type": "execute_result"
    }
   ],
   "source": [
    "sec = pd.read_csv('/home/data/dataset/Panjiva/ciq/ciqsecurity.csv.gz')\n",
    "sec.shape\n",
    "sec.head(3)"
   ]
  },
  {
   "cell_type": "code",
   "execution_count": 9,
   "metadata": {},
   "outputs": [
    {
     "data": {
      "text/plain": [
       "(14584192, 9)"
      ]
     },
     "execution_count": 9,
     "metadata": {},
     "output_type": "execute_result"
    },
    {
     "data": {
      "text/html": [
       "<div>\n",
       "<style scoped>\n",
       "    .dataframe tbody tr th:only-of-type {\n",
       "        vertical-align: middle;\n",
       "    }\n",
       "\n",
       "    .dataframe tbody tr th {\n",
       "        vertical-align: top;\n",
       "    }\n",
       "\n",
       "    .dataframe thead th {\n",
       "        text-align: right;\n",
       "    }\n",
       "</style>\n",
       "<table border=\"1\" class=\"dataframe\">\n",
       "  <thead>\n",
       "    <tr style=\"text-align: right;\">\n",
       "      <th></th>\n",
       "      <th>identifierid</th>\n",
       "      <th>companyid</th>\n",
       "      <th>identifiervalue</th>\n",
       "      <th>identifiertypeid</th>\n",
       "      <th>startdate</th>\n",
       "      <th>enddate</th>\n",
       "      <th>activeflag</th>\n",
       "      <th>primaryflag</th>\n",
       "      <th>filedate</th>\n",
       "    </tr>\n",
       "  </thead>\n",
       "  <tbody>\n",
       "    <tr>\n",
       "      <th>0</th>\n",
       "      <td>3062683</td>\n",
       "      <td>6488894</td>\n",
       "      <td>36238443</td>\n",
       "      <td>21001</td>\n",
       "      <td>NaN</td>\n",
       "      <td>NaN</td>\n",
       "      <td>1</td>\n",
       "      <td>0</td>\n",
       "      <td>2018-05-29 00:00:00.000</td>\n",
       "    </tr>\n",
       "    <tr>\n",
       "      <th>1</th>\n",
       "      <td>911098</td>\n",
       "      <td>6488894</td>\n",
       "      <td>36255683</td>\n",
       "      <td>21001</td>\n",
       "      <td>NaN</td>\n",
       "      <td>NaN</td>\n",
       "      <td>1</td>\n",
       "      <td>0</td>\n",
       "      <td>2018-05-29 00:00:00.000</td>\n",
       "    </tr>\n",
       "    <tr>\n",
       "      <th>2</th>\n",
       "      <td>994408</td>\n",
       "      <td>6488894</td>\n",
       "      <td>37046565</td>\n",
       "      <td>21001</td>\n",
       "      <td>NaN</td>\n",
       "      <td>NaN</td>\n",
       "      <td>1</td>\n",
       "      <td>0</td>\n",
       "      <td>2018-05-29 00:00:00.000</td>\n",
       "    </tr>\n",
       "  </tbody>\n",
       "</table>\n",
       "</div>"
      ],
      "text/plain": [
       "   identifierid  companyid  identifiervalue  identifiertypeid  startdate  \\\n",
       "0       3062683    6488894         36238443             21001        NaN   \n",
       "1        911098    6488894         36255683             21001        NaN   \n",
       "2        994408    6488894         37046565             21001        NaN   \n",
       "\n",
       "   enddate  activeflag  primaryflag                 filedate  \n",
       "0      NaN           1            0  2018-05-29 00:00:00.000  \n",
       "1      NaN           1            0  2018-05-29 00:00:00.000  \n",
       "2      NaN           1            0  2018-05-29 00:00:00.000  "
      ]
     },
     "execution_count": 9,
     "metadata": {},
     "output_type": "execute_result"
    }
   ],
   "source": [
    "cf = pd.read_csv('/home/data/dataset/Panjiva/ciq/cross_reference.csv')\n",
    "cf.shape\n",
    "cf.head(3)"
   ]
  },
  {
   "cell_type": "code",
   "execution_count": 10,
   "metadata": {},
   "outputs": [
    {
     "data": {
      "text/plain": [
       "(12243620, 7)"
      ]
     },
     "execution_count": 10,
     "metadata": {},
     "output_type": "execute_result"
    },
    {
     "data": {
      "text/html": [
       "<div>\n",
       "<style scoped>\n",
       "    .dataframe tbody tr th:only-of-type {\n",
       "        vertical-align: middle;\n",
       "    }\n",
       "\n",
       "    .dataframe tbody tr th {\n",
       "        vertical-align: top;\n",
       "    }\n",
       "\n",
       "    .dataframe thead th {\n",
       "        text-align: right;\n",
       "    }\n",
       "</style>\n",
       "<table border=\"1\" class=\"dataframe\">\n",
       "  <thead>\n",
       "    <tr style=\"text-align: right;\">\n",
       "      <th></th>\n",
       "      <th>tradingitemid</th>\n",
       "      <th>securityid</th>\n",
       "      <th>tickersymbol</th>\n",
       "      <th>exchangeid</th>\n",
       "      <th>currencyid</th>\n",
       "      <th>tradingitemstatusid</th>\n",
       "      <th>primaryflag</th>\n",
       "    </tr>\n",
       "  </thead>\n",
       "  <tbody>\n",
       "    <tr>\n",
       "      <th>0</th>\n",
       "      <td>2585869</td>\n",
       "      <td>2585868</td>\n",
       "      <td>ANAF.F</td>\n",
       "      <td>104.0</td>\n",
       "      <td>160.0</td>\n",
       "      <td>4.0</td>\n",
       "      <td>1</td>\n",
       "    </tr>\n",
       "    <tr>\n",
       "      <th>1</th>\n",
       "      <td>2585871</td>\n",
       "      <td>2585870</td>\n",
       "      <td>NaN</td>\n",
       "      <td>14.0</td>\n",
       "      <td>27.0</td>\n",
       "      <td>4.0</td>\n",
       "      <td>1</td>\n",
       "    </tr>\n",
       "    <tr>\n",
       "      <th>2</th>\n",
       "      <td>2585873</td>\n",
       "      <td>2585872</td>\n",
       "      <td>AEF.MVA</td>\n",
       "      <td>18.0</td>\n",
       "      <td>27.0</td>\n",
       "      <td>5.0</td>\n",
       "      <td>1</td>\n",
       "    </tr>\n",
       "  </tbody>\n",
       "</table>\n",
       "</div>"
      ],
      "text/plain": [
       "   tradingitemid  securityid tickersymbol  exchangeid  currencyid  \\\n",
       "0        2585869     2585868       ANAF.F       104.0       160.0   \n",
       "1        2585871     2585870          NaN        14.0        27.0   \n",
       "2        2585873     2585872      AEF.MVA        18.0        27.0   \n",
       "\n",
       "   tradingitemstatusid primaryflag  \n",
       "0                  4.0           1  \n",
       "1                  4.0           1  \n",
       "2                  5.0           1  "
      ]
     },
     "execution_count": 10,
     "metadata": {},
     "output_type": "execute_result"
    }
   ],
   "source": [
    "ti = pd.read_csv('/home/data/dataset/Panjiva/ciq/ciqtradingitem.csv.gz')\n",
    "ti.shape\n",
    "ti.head(3)"
   ]
  },
  {
   "cell_type": "code",
   "execution_count": 11,
   "metadata": {},
   "outputs": [
    {
     "data": {
      "text/plain": [
       "(734023, 3)"
      ]
     },
     "execution_count": 11,
     "metadata": {},
     "output_type": "execute_result"
    },
    {
     "data": {
      "text/html": [
       "<div>\n",
       "<style scoped>\n",
       "    .dataframe tbody tr th:only-of-type {\n",
       "        vertical-align: middle;\n",
       "    }\n",
       "\n",
       "    .dataframe tbody tr th {\n",
       "        vertical-align: top;\n",
       "    }\n",
       "\n",
       "    .dataframe thead th {\n",
       "        text-align: right;\n",
       "    }\n",
       "</style>\n",
       "<table border=\"1\" class=\"dataframe\">\n",
       "  <thead>\n",
       "    <tr style=\"text-align: right;\">\n",
       "      <th></th>\n",
       "      <th>companyid</th>\n",
       "      <th>companydatatypeid</th>\n",
       "      <th>datavalue</th>\n",
       "    </tr>\n",
       "  </thead>\n",
       "  <tbody>\n",
       "    <tr>\n",
       "      <th>0</th>\n",
       "      <td>25046</td>\n",
       "      <td>35</td>\n",
       "      <td>459.0000</td>\n",
       "    </tr>\n",
       "    <tr>\n",
       "      <th>1</th>\n",
       "      <td>25048</td>\n",
       "      <td>35</td>\n",
       "      <td>2432.0000</td>\n",
       "    </tr>\n",
       "    <tr>\n",
       "      <th>2</th>\n",
       "      <td>25057</td>\n",
       "      <td>35</td>\n",
       "      <td>1550.0000</td>\n",
       "    </tr>\n",
       "  </tbody>\n",
       "</table>\n",
       "</div>"
      ],
      "text/plain": [
       "   companyid  companydatatypeid  datavalue\n",
       "0      25046                 35   459.0000\n",
       "1      25048                 35  2432.0000\n",
       "2      25057                 35  1550.0000"
      ]
     },
     "execution_count": 11,
     "metadata": {},
     "output_type": "execute_result"
    }
   ],
   "source": [
    "cd = pd.read_csv('/home/data/dataset/Panjiva/ciq/ciqcompanydata.csv.gz')\n",
    "cd.shape\n",
    "cd.head(3)"
   ]
  },
  {
   "cell_type": "code",
   "execution_count": 13,
   "metadata": {},
   "outputs": [
    {
     "data": {
      "text/plain": [
       "(4087014, 4)"
      ]
     },
     "execution_count": 13,
     "metadata": {},
     "output_type": "execute_result"
    },
    {
     "data": {
      "text/html": [
       "<div>\n",
       "<style scoped>\n",
       "    .dataframe tbody tr th:only-of-type {\n",
       "        vertical-align: middle;\n",
       "    }\n",
       "\n",
       "    .dataframe tbody tr th {\n",
       "        vertical-align: top;\n",
       "    }\n",
       "\n",
       "    .dataframe thead th {\n",
       "        text-align: right;\n",
       "    }\n",
       "</style>\n",
       "<table border=\"1\" class=\"dataframe\">\n",
       "  <thead>\n",
       "    <tr style=\"text-align: right;\">\n",
       "      <th></th>\n",
       "      <th>ciq_company_id</th>\n",
       "      <th>ticker</th>\n",
       "      <th>source</th>\n",
       "      <th>update</th>\n",
       "    </tr>\n",
       "  </thead>\n",
       "  <tbody>\n",
       "    <tr>\n",
       "      <th>0</th>\n",
       "      <td>18507</td>\n",
       "      <td>1026283</td>\n",
       "      <td>Capital IQ</td>\n",
       "      <td>2022-06-18</td>\n",
       "    </tr>\n",
       "    <tr>\n",
       "      <th>1</th>\n",
       "      <td>18507</td>\n",
       "      <td>MMINV</td>\n",
       "      <td>Capital IQ</td>\n",
       "      <td>2022-06-18</td>\n",
       "    </tr>\n",
       "    <tr>\n",
       "      <th>2</th>\n",
       "      <td>18507</td>\n",
       "      <td>TW8</td>\n",
       "      <td>Capital IQ</td>\n",
       "      <td>2022-06-18</td>\n",
       "    </tr>\n",
       "  </tbody>\n",
       "</table>\n",
       "</div>"
      ],
      "text/plain": [
       "   ciq_company_id   ticker      source     update\n",
       "0           18507  1026283  Capital IQ 2022-06-18\n",
       "1           18507    MMINV  Capital IQ 2022-06-18\n",
       "2           18507      TW8  Capital IQ 2022-06-18"
      ]
     },
     "execution_count": 13,
     "metadata": {},
     "output_type": "execute_result"
    }
   ],
   "source": [
    "tk = pd.read_parquet('../isin/ciq_company_id-ticker.pq')\n",
    "tk.shape\n",
    "tk.head(3)"
   ]
  },
  {
   "cell_type": "code",
   "execution_count": 17,
   "metadata": {},
   "outputs": [
    {
     "data": {
      "text/html": [
       "<div>\n",
       "<style scoped>\n",
       "    .dataframe tbody tr th:only-of-type {\n",
       "        vertical-align: middle;\n",
       "    }\n",
       "\n",
       "    .dataframe tbody tr th {\n",
       "        vertical-align: top;\n",
       "    }\n",
       "\n",
       "    .dataframe thead th {\n",
       "        text-align: right;\n",
       "    }\n",
       "</style>\n",
       "<table border=\"1\" class=\"dataframe\">\n",
       "  <thead>\n",
       "    <tr style=\"text-align: right;\">\n",
       "      <th></th>\n",
       "      <th>ciq_company_id</th>\n",
       "      <th>ticker</th>\n",
       "      <th>source</th>\n",
       "      <th>update</th>\n",
       "    </tr>\n",
       "  </thead>\n",
       "  <tbody>\n",
       "    <tr>\n",
       "      <th>3926738</th>\n",
       "      <td>206864277</td>\n",
       "      <td>688318</td>\n",
       "      <td>Capital IQ</td>\n",
       "      <td>2022-06-18</td>\n",
       "    </tr>\n",
       "    <tr>\n",
       "      <th>1478669</th>\n",
       "      <td>4882369</td>\n",
       "      <td>56CG</td>\n",
       "      <td>Capital IQ</td>\n",
       "      <td>2022-06-18</td>\n",
       "    </tr>\n",
       "    <tr>\n",
       "      <th>4036158</th>\n",
       "      <td>213689928</td>\n",
       "      <td>186470273</td>\n",
       "      <td>Capital IQ</td>\n",
       "      <td>2022-06-18</td>\n",
       "    </tr>\n",
       "  </tbody>\n",
       "</table>\n",
       "</div>"
      ],
      "text/plain": [
       "         ciq_company_id     ticker      source     update\n",
       "3926738       206864277     688318  Capital IQ 2022-06-18\n",
       "1478669         4882369       56CG  Capital IQ 2022-06-18\n",
       "4036158       213689928  186470273  Capital IQ 2022-06-18"
      ]
     },
     "execution_count": 17,
     "metadata": {},
     "output_type": "execute_result"
    }
   ],
   "source": [
    "tk.sample(3)"
   ]
  },
  {
   "cell_type": "code",
   "execution_count": 14,
   "metadata": {},
   "outputs": [
    {
     "data": {
      "text/html": [
       "<div>\n",
       "<style scoped>\n",
       "    .dataframe tbody tr th:only-of-type {\n",
       "        vertical-align: middle;\n",
       "    }\n",
       "\n",
       "    .dataframe tbody tr th {\n",
       "        vertical-align: top;\n",
       "    }\n",
       "\n",
       "    .dataframe thead th {\n",
       "        text-align: right;\n",
       "    }\n",
       "</style>\n",
       "<table border=\"1\" class=\"dataframe\">\n",
       "  <thead>\n",
       "    <tr style=\"text-align: right;\">\n",
       "      <th></th>\n",
       "      <th>identifierid</th>\n",
       "      <th>companyid</th>\n",
       "      <th>identifiervalue</th>\n",
       "      <th>identifiertypeid</th>\n",
       "      <th>startdate</th>\n",
       "      <th>enddate</th>\n",
       "      <th>activeflag</th>\n",
       "      <th>primaryflag</th>\n",
       "      <th>filedate</th>\n",
       "    </tr>\n",
       "  </thead>\n",
       "  <tbody>\n",
       "    <tr>\n",
       "      <th>9921649</th>\n",
       "      <td>18507</td>\n",
       "      <td>234506355</td>\n",
       "      <td>28289301</td>\n",
       "      <td>21001</td>\n",
       "      <td>NaN</td>\n",
       "      <td>NaN</td>\n",
       "      <td>1</td>\n",
       "      <td>0</td>\n",
       "      <td>2020-10-21 00:00:00.000</td>\n",
       "    </tr>\n",
       "  </tbody>\n",
       "</table>\n",
       "</div>"
      ],
      "text/plain": [
       "         identifierid  companyid  identifiervalue  identifiertypeid  \\\n",
       "9921649         18507  234506355         28289301             21001   \n",
       "\n",
       "         startdate  enddate  activeflag  primaryflag                 filedate  \n",
       "9921649        NaN      NaN           1            0  2020-10-21 00:00:00.000  "
      ]
     },
     "execution_count": 14,
     "metadata": {},
     "output_type": "execute_result"
    }
   ],
   "source": [
    "cf.loc[cf['identifierid'] == 18507]"
   ]
  },
  {
   "cell_type": "code",
   "execution_count": 18,
   "metadata": {},
   "outputs": [
    {
     "data": {
      "text/html": [
       "<div>\n",
       "<style scoped>\n",
       "    .dataframe tbody tr th:only-of-type {\n",
       "        vertical-align: middle;\n",
       "    }\n",
       "\n",
       "    .dataframe tbody tr th {\n",
       "        vertical-align: top;\n",
       "    }\n",
       "\n",
       "    .dataframe thead th {\n",
       "        text-align: right;\n",
       "    }\n",
       "</style>\n",
       "<table border=\"1\" class=\"dataframe\">\n",
       "  <thead>\n",
       "    <tr style=\"text-align: right;\">\n",
       "      <th></th>\n",
       "      <th>companyid</th>\n",
       "      <th>companyname</th>\n",
       "    </tr>\n",
       "  </thead>\n",
       "  <tbody>\n",
       "    <tr>\n",
       "      <th>16914103</th>\n",
       "      <td>206864277</td>\n",
       "      <td>Shenzhen Fortune Trend technology Co., Ltd.</td>\n",
       "    </tr>\n",
       "  </tbody>\n",
       "</table>\n",
       "</div>"
      ],
      "text/plain": [
       "          companyid                                  companyname\n",
       "16914103  206864277  Shenzhen Fortune Trend technology Co., Ltd."
      ]
     },
     "execution_count": 18,
     "metadata": {},
     "output_type": "execute_result"
    },
    {
     "ename": "",
     "evalue": "",
     "output_type": "error",
     "traceback": [
      "\u001b[1;31m在当前单元格或上一个单元格中执行代码时 Kernel 崩溃。\n",
      "\u001b[1;31m请查看单元格中的代码，以确定故障的可能原因。\n",
      "\u001b[1;31m单击<a href='https://aka.ms/vscodeJupyterKernelCrash'>此处</a>了解详细信息。\n",
      "\u001b[1;31m有关更多详细信息，请查看 Jupyter <a href='command:jupyter.viewOutput'>log</a>。"
     ]
    }
   ],
   "source": [
    "cid_cname.loc[cid_cname['companyid'] == 206864277]"
   ]
  },
  {
   "cell_type": "code",
   "execution_count": null,
   "metadata": {},
   "outputs": [],
   "source": []
  }
 ],
 "metadata": {
  "kernelspec": {
   "display_name": "base",
   "language": "python",
   "name": "python3"
  },
  "language_info": {
   "codemirror_mode": {
    "name": "ipython",
    "version": 3
   },
   "file_extension": ".py",
   "mimetype": "text/x-python",
   "name": "python",
   "nbconvert_exporter": "python",
   "pygments_lexer": "ipython3",
   "version": "3.12.2"
  }
 },
 "nbformat": 4,
 "nbformat_minor": 2
}
