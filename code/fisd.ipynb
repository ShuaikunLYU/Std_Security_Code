{
 "cells": [
  {
   "cell_type": "markdown",
   "metadata": {},
   "source": [
    "# Mergent FISD Bond Data"
   ]
  },
  {
   "cell_type": "code",
   "execution_count": 1,
   "metadata": {},
   "outputs": [],
   "source": [
    "import pandas as pd"
   ]
  },
  {
   "cell_type": "code",
   "execution_count": 4,
   "metadata": {},
   "outputs": [
    {
     "data": {
      "text/plain": [
       "(561184, 66)"
      ]
     },
     "execution_count": 4,
     "metadata": {},
     "output_type": "execute_result"
    },
    {
     "data": {
      "text/html": [
       "<div>\n",
       "<style scoped>\n",
       "    .dataframe tbody tr th:only-of-type {\n",
       "        vertical-align: middle;\n",
       "    }\n",
       "\n",
       "    .dataframe tbody tr th {\n",
       "        vertical-align: top;\n",
       "    }\n",
       "\n",
       "    .dataframe thead th {\n",
       "        text-align: right;\n",
       "    }\n",
       "</style>\n",
       "<table border=\"1\" class=\"dataframe\">\n",
       "  <thead>\n",
       "    <tr style=\"text-align: right;\">\n",
       "      <th></th>\n",
       "      <th>ISSUE_ID</th>\n",
       "      <th>ISSUER_ID</th>\n",
       "      <th>PROSPECTUS_ISSUER_NAME</th>\n",
       "      <th>ISSUER_CUSIP</th>\n",
       "      <th>ISSUE_CUSIP</th>\n",
       "      <th>ISSUE_NAME</th>\n",
       "      <th>MATURITY</th>\n",
       "      <th>SECURITY_LEVEL</th>\n",
       "      <th>SECURITY_PLEDGE</th>\n",
       "      <th>ENHANCEMENT</th>\n",
       "      <th>COUPON_TYPE</th>\n",
       "      <th>CONVERTIBLE</th>\n",
       "      <th>MTN</th>\n",
       "      <th>ASSET_BACKED</th>\n",
       "      <th>YANKEE</th>\n",
       "      <th>CANADIAN</th>\n",
       "      <th>OID</th>\n",
       "      <th>FOREIGN_CURRENCY</th>\n",
       "      <th>SLOB</th>\n",
       "      <th>ISSUE_OFFERED_GLOBAL</th>\n",
       "      <th>SETTLEMENT_TYPE</th>\n",
       "      <th>GROSS_SPREAD</th>\n",
       "      <th>SELLING_CONCESSION</th>\n",
       "      <th>REALLOWANCE</th>\n",
       "      <th>COMP_NEG_EXCH_DEAL</th>\n",
       "      <th>RULE_415_REG</th>\n",
       "      <th>SEC_REG_TYPE1</th>\n",
       "      <th>SEC_REG_TYPE2</th>\n",
       "      <th>RULE_144A</th>\n",
       "      <th>TREASURY_SPREAD</th>\n",
       "      <th>TREASURY_MATURITY</th>\n",
       "      <th>OFFERING_AMT</th>\n",
       "      <th>OFFERING_DATE</th>\n",
       "      <th>OFFERING_PRICE</th>\n",
       "      <th>OFFERING_YIELD</th>\n",
       "      <th>DELIVERY_DATE</th>\n",
       "      <th>UNIT_DEAL</th>\n",
       "      <th>FORM_OF_OWN</th>\n",
       "      <th>DENOMINATION</th>\n",
       "      <th>PRINCIPAL_AMT</th>\n",
       "      <th>COVENANTS</th>\n",
       "      <th>DEFEASED</th>\n",
       "      <th>DEFEASANCE_TYPE</th>\n",
       "      <th>DEFEASED_DATE</th>\n",
       "      <th>DEFAULTED</th>\n",
       "      <th>TENDER_EXCH_OFFER</th>\n",
       "      <th>REDEEMABLE</th>\n",
       "      <th>REFUND_PROTECTION</th>\n",
       "      <th>REFUNDING_DATE</th>\n",
       "      <th>PUTABLE</th>\n",
       "      <th>OVERALLOTMENT_OPT</th>\n",
       "      <th>ANNOUNCED_CALL</th>\n",
       "      <th>ACTIVE_ISSUE</th>\n",
       "      <th>DEP_ELIGIBILITY</th>\n",
       "      <th>PRIVATE_PLACEMENT</th>\n",
       "      <th>BOND_TYPE</th>\n",
       "      <th>SUBSEQUENT_DATA</th>\n",
       "      <th>PRESS_RELEASE</th>\n",
       "      <th>ISIN</th>\n",
       "      <th>PERPETUAL</th>\n",
       "      <th>SEDOL</th>\n",
       "      <th>EXCHANGEABLE</th>\n",
       "      <th>FUNGIBLE</th>\n",
       "      <th>REGISTRATION_RIGHTS</th>\n",
       "      <th>PREFERRED_SECURITY</th>\n",
       "      <th>COMPLETE_CUSIP</th>\n",
       "    </tr>\n",
       "  </thead>\n",
       "  <tbody>\n",
       "    <tr>\n",
       "      <th>0</th>\n",
       "      <td>1.0</td>\n",
       "      <td>3.0</td>\n",
       "      <td>b'AAR CORP'</td>\n",
       "      <td>b'000361'</td>\n",
       "      <td>b'AA3'</td>\n",
       "      <td>b'NT'</td>\n",
       "      <td>2001-11-01</td>\n",
       "      <td>b'SEN'</td>\n",
       "      <td>NaN</td>\n",
       "      <td>b'N'</td>\n",
       "      <td>b'F'</td>\n",
       "      <td>b'N'</td>\n",
       "      <td>b'N'</td>\n",
       "      <td>b'N'</td>\n",
       "      <td>b'N'</td>\n",
       "      <td>b'N'</td>\n",
       "      <td>b'N'</td>\n",
       "      <td>b'N'</td>\n",
       "      <td>b'N'</td>\n",
       "      <td>b'N'</td>\n",
       "      <td>b'S'</td>\n",
       "      <td>7.00</td>\n",
       "      <td>4.00</td>\n",
       "      <td>2.5</td>\n",
       "      <td>b'NEG'</td>\n",
       "      <td>b'N'</td>\n",
       "      <td>b'RBNA'</td>\n",
       "      <td>b'NA'</td>\n",
       "      <td>b'N'</td>\n",
       "      <td>0.0</td>\n",
       "      <td>b'NA'</td>\n",
       "      <td>65000.0</td>\n",
       "      <td>1989-10-24</td>\n",
       "      <td>100.000</td>\n",
       "      <td>9.500</td>\n",
       "      <td>1989-11-01</td>\n",
       "      <td>b'N'</td>\n",
       "      <td>b'BE'</td>\n",
       "      <td>b'1/1'</td>\n",
       "      <td>1000.0</td>\n",
       "      <td>b'Y'</td>\n",
       "      <td>b'N'</td>\n",
       "      <td>NaN</td>\n",
       "      <td>NaT</td>\n",
       "      <td>b'N'</td>\n",
       "      <td>b'N'</td>\n",
       "      <td>b'N'</td>\n",
       "      <td>b'N'</td>\n",
       "      <td>NaT</td>\n",
       "      <td>b'N'</td>\n",
       "      <td>b'N'</td>\n",
       "      <td>b'N'</td>\n",
       "      <td>b'N'</td>\n",
       "      <td>b'DTC'</td>\n",
       "      <td>b'N'</td>\n",
       "      <td>b'CDEB'</td>\n",
       "      <td>b'Y'</td>\n",
       "      <td>NaN</td>\n",
       "      <td>b'US000361AA35'</td>\n",
       "      <td>b'N'</td>\n",
       "      <td>NaN</td>\n",
       "      <td>b'N'</td>\n",
       "      <td>b'N'</td>\n",
       "      <td>NaN</td>\n",
       "      <td>b'N'</td>\n",
       "      <td>b'000361AA3'</td>\n",
       "    </tr>\n",
       "    <tr>\n",
       "      <th>1</th>\n",
       "      <td>2.0</td>\n",
       "      <td>3.0</td>\n",
       "      <td>b'AAR CORP'</td>\n",
       "      <td>b'000361'</td>\n",
       "      <td>b'AB1'</td>\n",
       "      <td>b'NT'</td>\n",
       "      <td>2003-10-15</td>\n",
       "      <td>b'SEN'</td>\n",
       "      <td>NaN</td>\n",
       "      <td>b'N'</td>\n",
       "      <td>b'F'</td>\n",
       "      <td>b'N'</td>\n",
       "      <td>b'N'</td>\n",
       "      <td>b'N'</td>\n",
       "      <td>b'N'</td>\n",
       "      <td>b'N'</td>\n",
       "      <td>b'N'</td>\n",
       "      <td>b'N'</td>\n",
       "      <td>b'N'</td>\n",
       "      <td>b'N'</td>\n",
       "      <td>b'S'</td>\n",
       "      <td>6.75</td>\n",
       "      <td>4.00</td>\n",
       "      <td>2.5</td>\n",
       "      <td>b'NEG'</td>\n",
       "      <td>b'Y'</td>\n",
       "      <td>b'S-3'</td>\n",
       "      <td>b'NA'</td>\n",
       "      <td>b'N'</td>\n",
       "      <td>200.0</td>\n",
       "      <td>b'10 YEAR'</td>\n",
       "      <td>50000.0</td>\n",
       "      <td>1993-10-12</td>\n",
       "      <td>100.000</td>\n",
       "      <td>7.250</td>\n",
       "      <td>1993-10-19</td>\n",
       "      <td>b'N'</td>\n",
       "      <td>b'BE'</td>\n",
       "      <td>b'1/1'</td>\n",
       "      <td>1000.0</td>\n",
       "      <td>b'Y'</td>\n",
       "      <td>b'N'</td>\n",
       "      <td>NaN</td>\n",
       "      <td>NaT</td>\n",
       "      <td>b'N'</td>\n",
       "      <td>b'N'</td>\n",
       "      <td>b'N'</td>\n",
       "      <td>b'N'</td>\n",
       "      <td>NaT</td>\n",
       "      <td>b'N'</td>\n",
       "      <td>b'N'</td>\n",
       "      <td>b'N'</td>\n",
       "      <td>b'N'</td>\n",
       "      <td>b'DTC'</td>\n",
       "      <td>b'N'</td>\n",
       "      <td>b'CDEB'</td>\n",
       "      <td>b'Y'</td>\n",
       "      <td>NaN</td>\n",
       "      <td>b'US000361AB18'</td>\n",
       "      <td>b'N'</td>\n",
       "      <td>NaN</td>\n",
       "      <td>b'N'</td>\n",
       "      <td>b'N'</td>\n",
       "      <td>NaN</td>\n",
       "      <td>b'N'</td>\n",
       "      <td>b'000361AB1'</td>\n",
       "    </tr>\n",
       "    <tr>\n",
       "      <th>2</th>\n",
       "      <td>3.0</td>\n",
       "      <td>40263.0</td>\n",
       "      <td>b'ABN AMRO BK N V N Y BRH'</td>\n",
       "      <td>b'00077D'</td>\n",
       "      <td>b'AB5'</td>\n",
       "      <td>b'MTN'</td>\n",
       "      <td>1996-01-12</td>\n",
       "      <td>b'SEN'</td>\n",
       "      <td>NaN</td>\n",
       "      <td>b'N'</td>\n",
       "      <td>b'F'</td>\n",
       "      <td>b'N'</td>\n",
       "      <td>b'Y'</td>\n",
       "      <td>b'N'</td>\n",
       "      <td>b'N'</td>\n",
       "      <td>b'N'</td>\n",
       "      <td>b'N'</td>\n",
       "      <td>b'N'</td>\n",
       "      <td>b'N'</td>\n",
       "      <td>b'N'</td>\n",
       "      <td>b'S'</td>\n",
       "      <td>0.00</td>\n",
       "      <td>0.75</td>\n",
       "      <td>0.5</td>\n",
       "      <td>b'NEG'</td>\n",
       "      <td>b'Y'</td>\n",
       "      <td>b'RBNA'</td>\n",
       "      <td>b'NA'</td>\n",
       "      <td>b'N'</td>\n",
       "      <td>12.0</td>\n",
       "      <td>b'2 YEAR'</td>\n",
       "      <td>100000.0</td>\n",
       "      <td>1994-01-07</td>\n",
       "      <td>99.873</td>\n",
       "      <td>4.217</td>\n",
       "      <td>1994-01-14</td>\n",
       "      <td>b'N'</td>\n",
       "      <td>b'BE'</td>\n",
       "      <td>b'1/1'</td>\n",
       "      <td>1000.0</td>\n",
       "      <td>b'N'</td>\n",
       "      <td>b'N'</td>\n",
       "      <td>NaN</td>\n",
       "      <td>NaT</td>\n",
       "      <td>b'N'</td>\n",
       "      <td>b'N'</td>\n",
       "      <td>b'N'</td>\n",
       "      <td>b'N'</td>\n",
       "      <td>NaT</td>\n",
       "      <td>b'N'</td>\n",
       "      <td>b'N'</td>\n",
       "      <td>b'N'</td>\n",
       "      <td>b'N'</td>\n",
       "      <td>NaN</td>\n",
       "      <td>b'N'</td>\n",
       "      <td>b'CMTN'</td>\n",
       "      <td>b'N'</td>\n",
       "      <td>NaN</td>\n",
       "      <td>b'US00077DAB55'</td>\n",
       "      <td>b'N'</td>\n",
       "      <td>NaN</td>\n",
       "      <td>b'N'</td>\n",
       "      <td>b'N'</td>\n",
       "      <td>NaN</td>\n",
       "      <td>b'N'</td>\n",
       "      <td>b'00077DAB5'</td>\n",
       "    </tr>\n",
       "  </tbody>\n",
       "</table>\n",
       "</div>"
      ],
      "text/plain": [
       "   ISSUE_ID  ISSUER_ID      PROSPECTUS_ISSUER_NAME ISSUER_CUSIP ISSUE_CUSIP  \\\n",
       "0       1.0        3.0                 b'AAR CORP'    b'000361'      b'AA3'   \n",
       "1       2.0        3.0                 b'AAR CORP'    b'000361'      b'AB1'   \n",
       "2       3.0    40263.0  b'ABN AMRO BK N V N Y BRH'    b'00077D'      b'AB5'   \n",
       "\n",
       "  ISSUE_NAME   MATURITY SECURITY_LEVEL SECURITY_PLEDGE ENHANCEMENT  \\\n",
       "0      b'NT' 2001-11-01         b'SEN'             NaN        b'N'   \n",
       "1      b'NT' 2003-10-15         b'SEN'             NaN        b'N'   \n",
       "2     b'MTN' 1996-01-12         b'SEN'             NaN        b'N'   \n",
       "\n",
       "  COUPON_TYPE CONVERTIBLE   MTN ASSET_BACKED YANKEE CANADIAN   OID  \\\n",
       "0        b'F'        b'N'  b'N'         b'N'   b'N'     b'N'  b'N'   \n",
       "1        b'F'        b'N'  b'N'         b'N'   b'N'     b'N'  b'N'   \n",
       "2        b'F'        b'N'  b'Y'         b'N'   b'N'     b'N'  b'N'   \n",
       "\n",
       "  FOREIGN_CURRENCY  SLOB ISSUE_OFFERED_GLOBAL SETTLEMENT_TYPE  GROSS_SPREAD  \\\n",
       "0             b'N'  b'N'                 b'N'            b'S'          7.00   \n",
       "1             b'N'  b'N'                 b'N'            b'S'          6.75   \n",
       "2             b'N'  b'N'                 b'N'            b'S'          0.00   \n",
       "\n",
       "   SELLING_CONCESSION  REALLOWANCE COMP_NEG_EXCH_DEAL RULE_415_REG  \\\n",
       "0                4.00          2.5             b'NEG'         b'N'   \n",
       "1                4.00          2.5             b'NEG'         b'Y'   \n",
       "2                0.75          0.5             b'NEG'         b'Y'   \n",
       "\n",
       "  SEC_REG_TYPE1 SEC_REG_TYPE2 RULE_144A  TREASURY_SPREAD TREASURY_MATURITY  \\\n",
       "0       b'RBNA'         b'NA'      b'N'              0.0             b'NA'   \n",
       "1        b'S-3'         b'NA'      b'N'            200.0        b'10 YEAR'   \n",
       "2       b'RBNA'         b'NA'      b'N'             12.0         b'2 YEAR'   \n",
       "\n",
       "   OFFERING_AMT OFFERING_DATE  OFFERING_PRICE  OFFERING_YIELD DELIVERY_DATE  \\\n",
       "0       65000.0    1989-10-24         100.000           9.500    1989-11-01   \n",
       "1       50000.0    1993-10-12         100.000           7.250    1993-10-19   \n",
       "2      100000.0    1994-01-07          99.873           4.217    1994-01-14   \n",
       "\n",
       "  UNIT_DEAL FORM_OF_OWN DENOMINATION  PRINCIPAL_AMT COVENANTS DEFEASED  \\\n",
       "0      b'N'       b'BE'       b'1/1'         1000.0      b'Y'     b'N'   \n",
       "1      b'N'       b'BE'       b'1/1'         1000.0      b'Y'     b'N'   \n",
       "2      b'N'       b'BE'       b'1/1'         1000.0      b'N'     b'N'   \n",
       "\n",
       "  DEFEASANCE_TYPE DEFEASED_DATE DEFAULTED TENDER_EXCH_OFFER REDEEMABLE  \\\n",
       "0             NaN           NaT      b'N'              b'N'       b'N'   \n",
       "1             NaN           NaT      b'N'              b'N'       b'N'   \n",
       "2             NaN           NaT      b'N'              b'N'       b'N'   \n",
       "\n",
       "  REFUND_PROTECTION REFUNDING_DATE PUTABLE OVERALLOTMENT_OPT ANNOUNCED_CALL  \\\n",
       "0              b'N'            NaT    b'N'              b'N'           b'N'   \n",
       "1              b'N'            NaT    b'N'              b'N'           b'N'   \n",
       "2              b'N'            NaT    b'N'              b'N'           b'N'   \n",
       "\n",
       "  ACTIVE_ISSUE DEP_ELIGIBILITY PRIVATE_PLACEMENT BOND_TYPE SUBSEQUENT_DATA  \\\n",
       "0         b'N'          b'DTC'              b'N'   b'CDEB'            b'Y'   \n",
       "1         b'N'          b'DTC'              b'N'   b'CDEB'            b'Y'   \n",
       "2         b'N'             NaN              b'N'   b'CMTN'            b'N'   \n",
       "\n",
       "  PRESS_RELEASE             ISIN PERPETUAL SEDOL EXCHANGEABLE FUNGIBLE  \\\n",
       "0           NaN  b'US000361AA35'      b'N'   NaN         b'N'     b'N'   \n",
       "1           NaN  b'US000361AB18'      b'N'   NaN         b'N'     b'N'   \n",
       "2           NaN  b'US00077DAB55'      b'N'   NaN         b'N'     b'N'   \n",
       "\n",
       "  REGISTRATION_RIGHTS PREFERRED_SECURITY COMPLETE_CUSIP  \n",
       "0                 NaN               b'N'   b'000361AA3'  \n",
       "1                 NaN               b'N'   b'000361AB1'  \n",
       "2                 NaN               b'N'   b'00077DAB5'  "
      ]
     },
     "execution_count": 4,
     "metadata": {},
     "output_type": "execute_result"
    }
   ],
   "source": [
    "df = pd.read_sas(r'c:\\Users\\wenzh\\Dropbox\\研究\\2024 - Trust Rating\\Replication\\02_rdata\\FISD\\fisd_issue.sas7bdat')\n",
    "df.shape\n",
    "df.head(3)"
   ]
  },
  {
   "cell_type": "code",
   "execution_count": 34,
   "metadata": {},
   "outputs": [
    {
     "data": {
      "text/plain": [
       "ISSUE_ID                  561184\n",
       "ISSUER_ID                 561184\n",
       "PROSPECTUS_ISSUER_NAME    561184\n",
       "COMPLETE_CUSIP            561184\n",
       "ISIN                      559046\n",
       "dtype: int64"
      ]
     },
     "execution_count": 34,
     "metadata": {},
     "output_type": "execute_result"
    },
    {
     "data": {
      "text/html": [
       "<div>\n",
       "<style scoped>\n",
       "    .dataframe tbody tr th:only-of-type {\n",
       "        vertical-align: middle;\n",
       "    }\n",
       "\n",
       "    .dataframe tbody tr th {\n",
       "        vertical-align: top;\n",
       "    }\n",
       "\n",
       "    .dataframe thead th {\n",
       "        text-align: right;\n",
       "    }\n",
       "</style>\n",
       "<table border=\"1\" class=\"dataframe\">\n",
       "  <thead>\n",
       "    <tr style=\"text-align: right;\">\n",
       "      <th></th>\n",
       "      <th>ISSUE_ID</th>\n",
       "      <th>ISSUER_ID</th>\n",
       "      <th>PROSPECTUS_ISSUER_NAME</th>\n",
       "      <th>COMPLETE_CUSIP</th>\n",
       "      <th>ISIN</th>\n",
       "    </tr>\n",
       "  </thead>\n",
       "  <tbody>\n",
       "    <tr>\n",
       "      <th>0</th>\n",
       "      <td>1.0</td>\n",
       "      <td>3.0</td>\n",
       "      <td>AAR CORP</td>\n",
       "      <td>000361AA3</td>\n",
       "      <td>US000361AA35</td>\n",
       "    </tr>\n",
       "    <tr>\n",
       "      <th>1</th>\n",
       "      <td>2.0</td>\n",
       "      <td>3.0</td>\n",
       "      <td>AAR CORP</td>\n",
       "      <td>000361AB1</td>\n",
       "      <td>US000361AB18</td>\n",
       "    </tr>\n",
       "    <tr>\n",
       "      <th>2</th>\n",
       "      <td>3.0</td>\n",
       "      <td>40263.0</td>\n",
       "      <td>ABN AMRO BK N V N Y BRH</td>\n",
       "      <td>00077DAB5</td>\n",
       "      <td>US00077DAB55</td>\n",
       "    </tr>\n",
       "  </tbody>\n",
       "</table>\n",
       "</div>"
      ],
      "text/plain": [
       "   ISSUE_ID  ISSUER_ID   PROSPECTUS_ISSUER_NAME COMPLETE_CUSIP          ISIN\n",
       "0       1.0        3.0                 AAR CORP      000361AA3  US000361AA35\n",
       "1       2.0        3.0                 AAR CORP      000361AB1  US000361AB18\n",
       "2       3.0    40263.0  ABN AMRO BK N V N Y BRH      00077DAB5  US00077DAB55"
      ]
     },
     "execution_count": 34,
     "metadata": {},
     "output_type": "execute_result"
    }
   ],
   "source": [
    "df2 = df[['ISSUE_ID', 'ISSUER_ID', 'PROSPECTUS_ISSUER_NAME', 'COMPLETE_CUSIP', 'ISIN']].copy()\n",
    "df2.notna().sum()\n",
    "\n",
    "df2['PROSPECTUS_ISSUER_NAME'] = df2['PROSPECTUS_ISSUER_NAME'].str.decode('utf-8')\n",
    "df2['COMPLETE_CUSIP'] = df2['COMPLETE_CUSIP'].str.decode('utf-8')\n",
    "df2['ISIN'] = df2['ISIN'].str.decode('utf-8')\n",
    "\n",
    "df2.head(3)"
   ]
  },
  {
   "cell_type": "markdown",
   "metadata": {},
   "source": [
    "## Company Name"
   ]
  },
  {
   "cell_type": "code",
   "execution_count": 15,
   "metadata": {},
   "outputs": [
    {
     "data": {
      "text/plain": [
       "(10224601, 4)"
      ]
     },
     "execution_count": 15,
     "metadata": {},
     "output_type": "execute_result"
    },
    {
     "data": {
      "text/html": [
       "<div>\n",
       "<style scoped>\n",
       "    .dataframe tbody tr th:only-of-type {\n",
       "        vertical-align: middle;\n",
       "    }\n",
       "\n",
       "    .dataframe tbody tr th {\n",
       "        vertical-align: top;\n",
       "    }\n",
       "\n",
       "    .dataframe thead th {\n",
       "        text-align: right;\n",
       "    }\n",
       "</style>\n",
       "<table border=\"1\" class=\"dataframe\">\n",
       "  <thead>\n",
       "    <tr style=\"text-align: right;\">\n",
       "      <th></th>\n",
       "      <th>isin</th>\n",
       "      <th>company_name</th>\n",
       "      <th>source</th>\n",
       "      <th>update</th>\n",
       "    </tr>\n",
       "  </thead>\n",
       "  <tbody>\n",
       "    <tr>\n",
       "      <th>0</th>\n",
       "      <td>CNE100000TP3</td>\n",
       "      <td>LUXSHARE PRECISION INDUSTRY CO LTD (LUXSHARE)</td>\n",
       "      <td>RepRisk</td>\n",
       "      <td>2022-06-19</td>\n",
       "    </tr>\n",
       "    <tr>\n",
       "      <th>183609</th>\n",
       "      <td>US140420LV06</td>\n",
       "      <td>CAPITAL ONE BANK NA</td>\n",
       "      <td>RepRisk</td>\n",
       "      <td>2022-06-19</td>\n",
       "    </tr>\n",
       "    <tr>\n",
       "      <th>183595</th>\n",
       "      <td>US140420YL86</td>\n",
       "      <td>CAPITAL ONE BANK NA</td>\n",
       "      <td>RepRisk</td>\n",
       "      <td>2022-06-19</td>\n",
       "    </tr>\n",
       "  </tbody>\n",
       "</table>\n",
       "</div>"
      ],
      "text/plain": [
       "                isin                                   company_name   source  \\\n",
       "0       CNE100000TP3  LUXSHARE PRECISION INDUSTRY CO LTD (LUXSHARE)  RepRisk   \n",
       "183609  US140420LV06                            CAPITAL ONE BANK NA  RepRisk   \n",
       "183595  US140420YL86                            CAPITAL ONE BANK NA  RepRisk   \n",
       "\n",
       "           update  \n",
       "0      2022-06-19  \n",
       "183609 2022-06-19  \n",
       "183595 2022-06-19  "
      ]
     },
     "execution_count": 15,
     "metadata": {},
     "output_type": "execute_result"
    }
   ],
   "source": [
    "cn = pd.read_parquet('../isin/company_name.pq')\n",
    "cn.shape\n",
    "cn.head(3)"
   ]
  },
  {
   "cell_type": "code",
   "execution_count": 25,
   "metadata": {},
   "outputs": [
    {
     "data": {
      "text/plain": [
       "(559899, 4)"
      ]
     },
     "execution_count": 25,
     "metadata": {},
     "output_type": "execute_result"
    },
    {
     "data": {
      "text/html": [
       "<div>\n",
       "<style scoped>\n",
       "    .dataframe tbody tr th:only-of-type {\n",
       "        vertical-align: middle;\n",
       "    }\n",
       "\n",
       "    .dataframe tbody tr th {\n",
       "        vertical-align: top;\n",
       "    }\n",
       "\n",
       "    .dataframe thead th {\n",
       "        text-align: right;\n",
       "    }\n",
       "</style>\n",
       "<table border=\"1\" class=\"dataframe\">\n",
       "  <thead>\n",
       "    <tr style=\"text-align: right;\">\n",
       "      <th></th>\n",
       "      <th>company_name</th>\n",
       "      <th>isin</th>\n",
       "      <th>source</th>\n",
       "      <th>update</th>\n",
       "    </tr>\n",
       "  </thead>\n",
       "  <tbody>\n",
       "    <tr>\n",
       "      <th>0</th>\n",
       "      <td>AAR CORP</td>\n",
       "      <td>US000361AA35</td>\n",
       "      <td>FISD</td>\n",
       "      <td>2024-03-16</td>\n",
       "    </tr>\n",
       "    <tr>\n",
       "      <th>1</th>\n",
       "      <td>AAR CORP</td>\n",
       "      <td>US000361AB18</td>\n",
       "      <td>FISD</td>\n",
       "      <td>2024-03-16</td>\n",
       "    </tr>\n",
       "    <tr>\n",
       "      <th>2</th>\n",
       "      <td>ABN AMRO BK N V N Y BRH</td>\n",
       "      <td>US00077DAB55</td>\n",
       "      <td>FISD</td>\n",
       "      <td>2024-03-16</td>\n",
       "    </tr>\n",
       "  </tbody>\n",
       "</table>\n",
       "</div>"
      ],
      "text/plain": [
       "              company_name          isin source     update\n",
       "0                 AAR CORP  US000361AA35   FISD 2024-03-16\n",
       "1                 AAR CORP  US000361AB18   FISD 2024-03-16\n",
       "2  ABN AMRO BK N V N Y BRH  US00077DAB55   FISD 2024-03-16"
      ]
     },
     "execution_count": 25,
     "metadata": {},
     "output_type": "execute_result"
    }
   ],
   "source": [
    "_cn = df2[['PROSPECTUS_ISSUER_NAME', 'ISIN']].drop_duplicates()\n",
    "_cn.columns = ['company_name', 'isin']\n",
    "_cn['source'] = 'FISD'\n",
    "_cn['update'] = pd.to_datetime('2024-03-16')\n",
    "_cn.shape\n",
    "_cn.head(3)"
   ]
  },
  {
   "cell_type": "code",
   "execution_count": 26,
   "metadata": {},
   "outputs": [
    {
     "data": {
      "text/plain": [
       "(10784500, 4)"
      ]
     },
     "execution_count": 26,
     "metadata": {},
     "output_type": "execute_result"
    },
    {
     "data": {
      "text/plain": [
       "(10770401, 4)"
      ]
     },
     "execution_count": 26,
     "metadata": {},
     "output_type": "execute_result"
    },
    {
     "data": {
      "text/html": [
       "<div>\n",
       "<style scoped>\n",
       "    .dataframe tbody tr th:only-of-type {\n",
       "        vertical-align: middle;\n",
       "    }\n",
       "\n",
       "    .dataframe tbody tr th {\n",
       "        vertical-align: top;\n",
       "    }\n",
       "\n",
       "    .dataframe thead th {\n",
       "        text-align: right;\n",
       "    }\n",
       "</style>\n",
       "<table border=\"1\" class=\"dataframe\">\n",
       "  <thead>\n",
       "    <tr style=\"text-align: right;\">\n",
       "      <th></th>\n",
       "      <th>isin</th>\n",
       "      <th>company_name</th>\n",
       "      <th>source</th>\n",
       "      <th>update</th>\n",
       "    </tr>\n",
       "  </thead>\n",
       "  <tbody>\n",
       "    <tr>\n",
       "      <th>0</th>\n",
       "      <td>CNE100000TP3</td>\n",
       "      <td>LUXSHARE PRECISION INDUSTRY CO LTD (LUXSHARE)</td>\n",
       "      <td>RepRisk</td>\n",
       "      <td>2022-06-19</td>\n",
       "    </tr>\n",
       "    <tr>\n",
       "      <th>183609</th>\n",
       "      <td>US140420LV06</td>\n",
       "      <td>CAPITAL ONE BANK NA</td>\n",
       "      <td>RepRisk</td>\n",
       "      <td>2022-06-19</td>\n",
       "    </tr>\n",
       "    <tr>\n",
       "      <th>183595</th>\n",
       "      <td>US140420YL86</td>\n",
       "      <td>CAPITAL ONE BANK NA</td>\n",
       "      <td>RepRisk</td>\n",
       "      <td>2022-06-19</td>\n",
       "    </tr>\n",
       "  </tbody>\n",
       "</table>\n",
       "</div>"
      ],
      "text/plain": [
       "                isin                                   company_name   source  \\\n",
       "0       CNE100000TP3  LUXSHARE PRECISION INDUSTRY CO LTD (LUXSHARE)  RepRisk   \n",
       "183609  US140420LV06                            CAPITAL ONE BANK NA  RepRisk   \n",
       "183595  US140420YL86                            CAPITAL ONE BANK NA  RepRisk   \n",
       "\n",
       "           update  \n",
       "0      2022-06-19  \n",
       "183609 2022-06-19  \n",
       "183595 2022-06-19  "
      ]
     },
     "execution_count": 26,
     "metadata": {},
     "output_type": "execute_result"
    }
   ],
   "source": [
    "cn2 = pd.concat([cn, _cn], axis=0)\n",
    "cn2.shape\n",
    "cn2.drop_duplicates(subset=['company_name', 'isin'], keep='last', inplace=True)\n",
    "cn2.shape\n",
    "cn2.head(3)"
   ]
  },
  {
   "cell_type": "code",
   "execution_count": 28,
   "metadata": {},
   "outputs": [],
   "source": [
    "cn2.to_parquet('../isin/company_name.pq')"
   ]
  },
  {
   "cell_type": "markdown",
   "metadata": {},
   "source": [
    "## CUSIP"
   ]
  },
  {
   "cell_type": "code",
   "execution_count": 29,
   "metadata": {},
   "outputs": [
    {
     "data": {
      "text/plain": [
       "(58410, 4)"
      ]
     },
     "execution_count": 29,
     "metadata": {},
     "output_type": "execute_result"
    },
    {
     "data": {
      "text/html": [
       "<div>\n",
       "<style scoped>\n",
       "    .dataframe tbody tr th:only-of-type {\n",
       "        vertical-align: middle;\n",
       "    }\n",
       "\n",
       "    .dataframe tbody tr th {\n",
       "        vertical-align: top;\n",
       "    }\n",
       "\n",
       "    .dataframe thead th {\n",
       "        text-align: right;\n",
       "    }\n",
       "</style>\n",
       "<table border=\"1\" class=\"dataframe\">\n",
       "  <thead>\n",
       "    <tr style=\"text-align: right;\">\n",
       "      <th></th>\n",
       "      <th>isin</th>\n",
       "      <th>cusip</th>\n",
       "      <th>source</th>\n",
       "      <th>update</th>\n",
       "    </tr>\n",
       "  </thead>\n",
       "  <tbody>\n",
       "    <tr>\n",
       "      <th>63159</th>\n",
       "      <td>CA15135U1093</td>\n",
       "      <td>15135U10</td>\n",
       "      <td>Refinitiv ESG</td>\n",
       "      <td>2022-06-17</td>\n",
       "    </tr>\n",
       "    <tr>\n",
       "      <th>56338</th>\n",
       "      <td>FR0004024222</td>\n",
       "      <td>F5262B11</td>\n",
       "      <td>Refinitiv ESG</td>\n",
       "      <td>2022-06-17</td>\n",
       "    </tr>\n",
       "    <tr>\n",
       "      <th>56345</th>\n",
       "      <td>US8060371072</td>\n",
       "      <td>80603710</td>\n",
       "      <td>Refinitiv ESG</td>\n",
       "      <td>2022-06-17</td>\n",
       "    </tr>\n",
       "  </tbody>\n",
       "</table>\n",
       "</div>"
      ],
      "text/plain": [
       "               isin     cusip         source     update\n",
       "63159  CA15135U1093  15135U10  Refinitiv ESG 2022-06-17\n",
       "56338  FR0004024222  F5262B11  Refinitiv ESG 2022-06-17\n",
       "56345  US8060371072  80603710  Refinitiv ESG 2022-06-17"
      ]
     },
     "execution_count": 29,
     "metadata": {},
     "output_type": "execute_result"
    }
   ],
   "source": [
    "cu = pd.read_parquet('../isin/cusip.pq')\n",
    "cu.shape\n",
    "cu.head(3)"
   ]
  },
  {
   "cell_type": "code",
   "execution_count": 30,
   "metadata": {},
   "outputs": [
    {
     "data": {
      "text/plain": [
       "(561184, 4)"
      ]
     },
     "execution_count": 30,
     "metadata": {},
     "output_type": "execute_result"
    },
    {
     "data": {
      "text/html": [
       "<div>\n",
       "<style scoped>\n",
       "    .dataframe tbody tr th:only-of-type {\n",
       "        vertical-align: middle;\n",
       "    }\n",
       "\n",
       "    .dataframe tbody tr th {\n",
       "        vertical-align: top;\n",
       "    }\n",
       "\n",
       "    .dataframe thead th {\n",
       "        text-align: right;\n",
       "    }\n",
       "</style>\n",
       "<table border=\"1\" class=\"dataframe\">\n",
       "  <thead>\n",
       "    <tr style=\"text-align: right;\">\n",
       "      <th></th>\n",
       "      <th>cusip</th>\n",
       "      <th>isin</th>\n",
       "      <th>source</th>\n",
       "      <th>update</th>\n",
       "    </tr>\n",
       "  </thead>\n",
       "  <tbody>\n",
       "    <tr>\n",
       "      <th>0</th>\n",
       "      <td>000361AA3</td>\n",
       "      <td>US000361AA35</td>\n",
       "      <td>FISD</td>\n",
       "      <td>2024-03-16</td>\n",
       "    </tr>\n",
       "    <tr>\n",
       "      <th>1</th>\n",
       "      <td>000361AB1</td>\n",
       "      <td>US000361AB18</td>\n",
       "      <td>FISD</td>\n",
       "      <td>2024-03-16</td>\n",
       "    </tr>\n",
       "    <tr>\n",
       "      <th>2</th>\n",
       "      <td>00077DAB5</td>\n",
       "      <td>US00077DAB55</td>\n",
       "      <td>FISD</td>\n",
       "      <td>2024-03-16</td>\n",
       "    </tr>\n",
       "  </tbody>\n",
       "</table>\n",
       "</div>"
      ],
      "text/plain": [
       "       cusip          isin source     update\n",
       "0  000361AA3  US000361AA35   FISD 2024-03-16\n",
       "1  000361AB1  US000361AB18   FISD 2024-03-16\n",
       "2  00077DAB5  US00077DAB55   FISD 2024-03-16"
      ]
     },
     "execution_count": 30,
     "metadata": {},
     "output_type": "execute_result"
    }
   ],
   "source": [
    "_cu = df2[['COMPLETE_CUSIP', 'ISIN']].drop_duplicates()\n",
    "_cu.columns = ['cusip', 'isin']\n",
    "_cu['source'] = 'FISD'\n",
    "_cu['update'] = pd.to_datetime('2024-03-16')\n",
    "_cu.shape\n",
    "_cu.head(3)"
   ]
  },
  {
   "cell_type": "code",
   "execution_count": 31,
   "metadata": {},
   "outputs": [
    {
     "data": {
      "text/plain": [
       "(619594, 4)"
      ]
     },
     "execution_count": 31,
     "metadata": {},
     "output_type": "execute_result"
    },
    {
     "data": {
      "text/plain": [
       "(616951, 4)"
      ]
     },
     "execution_count": 31,
     "metadata": {},
     "output_type": "execute_result"
    },
    {
     "data": {
      "text/html": [
       "<div>\n",
       "<style scoped>\n",
       "    .dataframe tbody tr th:only-of-type {\n",
       "        vertical-align: middle;\n",
       "    }\n",
       "\n",
       "    .dataframe tbody tr th {\n",
       "        vertical-align: top;\n",
       "    }\n",
       "\n",
       "    .dataframe thead th {\n",
       "        text-align: right;\n",
       "    }\n",
       "</style>\n",
       "<table border=\"1\" class=\"dataframe\">\n",
       "  <thead>\n",
       "    <tr style=\"text-align: right;\">\n",
       "      <th></th>\n",
       "      <th>isin</th>\n",
       "      <th>cusip</th>\n",
       "      <th>source</th>\n",
       "      <th>update</th>\n",
       "    </tr>\n",
       "  </thead>\n",
       "  <tbody>\n",
       "    <tr>\n",
       "      <th>63159</th>\n",
       "      <td>CA15135U1093</td>\n",
       "      <td>15135U10</td>\n",
       "      <td>Refinitiv ESG</td>\n",
       "      <td>2022-06-17</td>\n",
       "    </tr>\n",
       "    <tr>\n",
       "      <th>56338</th>\n",
       "      <td>FR0004024222</td>\n",
       "      <td>F5262B11</td>\n",
       "      <td>Refinitiv ESG</td>\n",
       "      <td>2022-06-17</td>\n",
       "    </tr>\n",
       "    <tr>\n",
       "      <th>56345</th>\n",
       "      <td>US8060371072</td>\n",
       "      <td>80603710</td>\n",
       "      <td>Refinitiv ESG</td>\n",
       "      <td>2022-06-17</td>\n",
       "    </tr>\n",
       "  </tbody>\n",
       "</table>\n",
       "</div>"
      ],
      "text/plain": [
       "               isin     cusip         source     update\n",
       "63159  CA15135U1093  15135U10  Refinitiv ESG 2022-06-17\n",
       "56338  FR0004024222  F5262B11  Refinitiv ESG 2022-06-17\n",
       "56345  US8060371072  80603710  Refinitiv ESG 2022-06-17"
      ]
     },
     "execution_count": 31,
     "metadata": {},
     "output_type": "execute_result"
    }
   ],
   "source": [
    "cu2 = pd.concat([cu, _cu], axis=0)\n",
    "cu2.shape\n",
    "cu2.drop_duplicates(subset=['cusip', 'isin'], keep='last', inplace=True)\n",
    "cu2.shape\n",
    "cu2.head(3)"
   ]
  },
  {
   "cell_type": "code",
   "execution_count": 32,
   "metadata": {},
   "outputs": [],
   "source": [
    "cu2.to_parquet('../isin/cusip.pq')"
   ]
  },
  {
   "cell_type": "markdown",
   "metadata": {},
   "source": [
    "## FISD Issue ID"
   ]
  },
  {
   "cell_type": "code",
   "execution_count": 35,
   "metadata": {},
   "outputs": [
    {
     "data": {
      "text/plain": [
       "(561184, 4)"
      ]
     },
     "execution_count": 35,
     "metadata": {},
     "output_type": "execute_result"
    },
    {
     "data": {
      "text/html": [
       "<div>\n",
       "<style scoped>\n",
       "    .dataframe tbody tr th:only-of-type {\n",
       "        vertical-align: middle;\n",
       "    }\n",
       "\n",
       "    .dataframe tbody tr th {\n",
       "        vertical-align: top;\n",
       "    }\n",
       "\n",
       "    .dataframe thead th {\n",
       "        text-align: right;\n",
       "    }\n",
       "</style>\n",
       "<table border=\"1\" class=\"dataframe\">\n",
       "  <thead>\n",
       "    <tr style=\"text-align: right;\">\n",
       "      <th></th>\n",
       "      <th>issue_id</th>\n",
       "      <th>isin</th>\n",
       "      <th>source</th>\n",
       "      <th>update</th>\n",
       "    </tr>\n",
       "  </thead>\n",
       "  <tbody>\n",
       "    <tr>\n",
       "      <th>0</th>\n",
       "      <td>1.0</td>\n",
       "      <td>US000361AA35</td>\n",
       "      <td>FISD</td>\n",
       "      <td>2024-03-16</td>\n",
       "    </tr>\n",
       "    <tr>\n",
       "      <th>1</th>\n",
       "      <td>2.0</td>\n",
       "      <td>US000361AB18</td>\n",
       "      <td>FISD</td>\n",
       "      <td>2024-03-16</td>\n",
       "    </tr>\n",
       "    <tr>\n",
       "      <th>2</th>\n",
       "      <td>3.0</td>\n",
       "      <td>US00077DAB55</td>\n",
       "      <td>FISD</td>\n",
       "      <td>2024-03-16</td>\n",
       "    </tr>\n",
       "  </tbody>\n",
       "</table>\n",
       "</div>"
      ],
      "text/plain": [
       "   issue_id          isin source     update\n",
       "0       1.0  US000361AA35   FISD 2024-03-16\n",
       "1       2.0  US000361AB18   FISD 2024-03-16\n",
       "2       3.0  US00077DAB55   FISD 2024-03-16"
      ]
     },
     "execution_count": 35,
     "metadata": {},
     "output_type": "execute_result"
    }
   ],
   "source": [
    "iid = df2[['ISSUE_ID', 'ISIN']].copy()\n",
    "iid.columns = ['issue_id', 'isin']\n",
    "iid['source'] = 'FISD'\n",
    "iid['update'] = pd.to_datetime('2024-03-16')\n",
    "iid.shape\n",
    "iid.head(3)"
   ]
  },
  {
   "cell_type": "code",
   "execution_count": 36,
   "metadata": {},
   "outputs": [
    {
     "data": {
      "text/plain": [
       "(561184, 4)"
      ]
     },
     "execution_count": 36,
     "metadata": {},
     "output_type": "execute_result"
    },
    {
     "data": {
      "text/html": [
       "<div>\n",
       "<style scoped>\n",
       "    .dataframe tbody tr th:only-of-type {\n",
       "        vertical-align: middle;\n",
       "    }\n",
       "\n",
       "    .dataframe tbody tr th {\n",
       "        vertical-align: top;\n",
       "    }\n",
       "\n",
       "    .dataframe thead th {\n",
       "        text-align: right;\n",
       "    }\n",
       "</style>\n",
       "<table border=\"1\" class=\"dataframe\">\n",
       "  <thead>\n",
       "    <tr style=\"text-align: right;\">\n",
       "      <th></th>\n",
       "      <th>issue_id</th>\n",
       "      <th>isin</th>\n",
       "      <th>source</th>\n",
       "      <th>update</th>\n",
       "    </tr>\n",
       "  </thead>\n",
       "  <tbody>\n",
       "    <tr>\n",
       "      <th>0</th>\n",
       "      <td>1.0</td>\n",
       "      <td>US000361AA35</td>\n",
       "      <td>FISD</td>\n",
       "      <td>2024-03-16</td>\n",
       "    </tr>\n",
       "    <tr>\n",
       "      <th>1</th>\n",
       "      <td>2.0</td>\n",
       "      <td>US000361AB18</td>\n",
       "      <td>FISD</td>\n",
       "      <td>2024-03-16</td>\n",
       "    </tr>\n",
       "    <tr>\n",
       "      <th>2</th>\n",
       "      <td>3.0</td>\n",
       "      <td>US00077DAB55</td>\n",
       "      <td>FISD</td>\n",
       "      <td>2024-03-16</td>\n",
       "    </tr>\n",
       "  </tbody>\n",
       "</table>\n",
       "</div>"
      ],
      "text/plain": [
       "   issue_id          isin source     update\n",
       "0       1.0  US000361AA35   FISD 2024-03-16\n",
       "1       2.0  US000361AB18   FISD 2024-03-16\n",
       "2       3.0  US00077DAB55   FISD 2024-03-16"
      ]
     },
     "execution_count": 36,
     "metadata": {},
     "output_type": "execute_result"
    }
   ],
   "source": [
    "iid.drop_duplicates(subset=['issue_id', 'isin'], keep='last', inplace=True)\n",
    "iid.shape\n",
    "iid.head(3)"
   ]
  },
  {
   "cell_type": "code",
   "execution_count": 37,
   "metadata": {},
   "outputs": [],
   "source": [
    "iid.to_parquet('../isin/fisd_issue_id.pq')"
   ]
  },
  {
   "cell_type": "markdown",
   "metadata": {},
   "source": [
    "## FISD Issue ID"
   ]
  },
  {
   "cell_type": "code",
   "execution_count": 38,
   "metadata": {},
   "outputs": [
    {
     "data": {
      "text/plain": [
       "(561184, 4)"
      ]
     },
     "execution_count": 38,
     "metadata": {},
     "output_type": "execute_result"
    },
    {
     "data": {
      "text/html": [
       "<div>\n",
       "<style scoped>\n",
       "    .dataframe tbody tr th:only-of-type {\n",
       "        vertical-align: middle;\n",
       "    }\n",
       "\n",
       "    .dataframe tbody tr th {\n",
       "        vertical-align: top;\n",
       "    }\n",
       "\n",
       "    .dataframe thead th {\n",
       "        text-align: right;\n",
       "    }\n",
       "</style>\n",
       "<table border=\"1\" class=\"dataframe\">\n",
       "  <thead>\n",
       "    <tr style=\"text-align: right;\">\n",
       "      <th></th>\n",
       "      <th>issuer_id</th>\n",
       "      <th>isin</th>\n",
       "      <th>source</th>\n",
       "      <th>update</th>\n",
       "    </tr>\n",
       "  </thead>\n",
       "  <tbody>\n",
       "    <tr>\n",
       "      <th>0</th>\n",
       "      <td>3.0</td>\n",
       "      <td>US000361AA35</td>\n",
       "      <td>FISD</td>\n",
       "      <td>2024-03-16</td>\n",
       "    </tr>\n",
       "    <tr>\n",
       "      <th>1</th>\n",
       "      <td>3.0</td>\n",
       "      <td>US000361AB18</td>\n",
       "      <td>FISD</td>\n",
       "      <td>2024-03-16</td>\n",
       "    </tr>\n",
       "    <tr>\n",
       "      <th>2</th>\n",
       "      <td>40263.0</td>\n",
       "      <td>US00077DAB55</td>\n",
       "      <td>FISD</td>\n",
       "      <td>2024-03-16</td>\n",
       "    </tr>\n",
       "  </tbody>\n",
       "</table>\n",
       "</div>"
      ],
      "text/plain": [
       "   issuer_id          isin source     update\n",
       "0        3.0  US000361AA35   FISD 2024-03-16\n",
       "1        3.0  US000361AB18   FISD 2024-03-16\n",
       "2    40263.0  US00077DAB55   FISD 2024-03-16"
      ]
     },
     "execution_count": 38,
     "metadata": {},
     "output_type": "execute_result"
    }
   ],
   "source": [
    "iid = df2[['ISSUER_ID', 'ISIN']].copy()\n",
    "iid.columns = ['issuer_id', 'isin']\n",
    "iid['source'] = 'FISD'\n",
    "iid['update'] = pd.to_datetime('2024-03-16')\n",
    "iid.shape\n",
    "iid.head(3)"
   ]
  },
  {
   "cell_type": "code",
   "execution_count": 39,
   "metadata": {},
   "outputs": [
    {
     "data": {
      "text/plain": [
       "(559874, 4)"
      ]
     },
     "execution_count": 39,
     "metadata": {},
     "output_type": "execute_result"
    },
    {
     "data": {
      "text/html": [
       "<div>\n",
       "<style scoped>\n",
       "    .dataframe tbody tr th:only-of-type {\n",
       "        vertical-align: middle;\n",
       "    }\n",
       "\n",
       "    .dataframe tbody tr th {\n",
       "        vertical-align: top;\n",
       "    }\n",
       "\n",
       "    .dataframe thead th {\n",
       "        text-align: right;\n",
       "    }\n",
       "</style>\n",
       "<table border=\"1\" class=\"dataframe\">\n",
       "  <thead>\n",
       "    <tr style=\"text-align: right;\">\n",
       "      <th></th>\n",
       "      <th>issuer_id</th>\n",
       "      <th>isin</th>\n",
       "      <th>source</th>\n",
       "      <th>update</th>\n",
       "    </tr>\n",
       "  </thead>\n",
       "  <tbody>\n",
       "    <tr>\n",
       "      <th>0</th>\n",
       "      <td>3.0</td>\n",
       "      <td>US000361AA35</td>\n",
       "      <td>FISD</td>\n",
       "      <td>2024-03-16</td>\n",
       "    </tr>\n",
       "    <tr>\n",
       "      <th>1</th>\n",
       "      <td>3.0</td>\n",
       "      <td>US000361AB18</td>\n",
       "      <td>FISD</td>\n",
       "      <td>2024-03-16</td>\n",
       "    </tr>\n",
       "    <tr>\n",
       "      <th>2</th>\n",
       "      <td>40263.0</td>\n",
       "      <td>US00077DAB55</td>\n",
       "      <td>FISD</td>\n",
       "      <td>2024-03-16</td>\n",
       "    </tr>\n",
       "  </tbody>\n",
       "</table>\n",
       "</div>"
      ],
      "text/plain": [
       "   issuer_id          isin source     update\n",
       "0        3.0  US000361AA35   FISD 2024-03-16\n",
       "1        3.0  US000361AB18   FISD 2024-03-16\n",
       "2    40263.0  US00077DAB55   FISD 2024-03-16"
      ]
     },
     "execution_count": 39,
     "metadata": {},
     "output_type": "execute_result"
    }
   ],
   "source": [
    "iid.drop_duplicates(subset=['issuer_id', 'isin'], keep='last', inplace=True)\n",
    "iid.shape\n",
    "iid.head(3)"
   ]
  },
  {
   "cell_type": "code",
   "execution_count": 40,
   "metadata": {},
   "outputs": [],
   "source": [
    "iid.to_parquet('../isin/fisd_issuer_id.pq')"
   ]
  },
  {
   "cell_type": "code",
   "execution_count": null,
   "metadata": {},
   "outputs": [],
   "source": []
  }
 ],
 "metadata": {
  "kernelspec": {
   "display_name": "base",
   "language": "python",
   "name": "python3"
  },
  "language_info": {
   "codemirror_mode": {
    "name": "ipython",
    "version": 3
   },
   "file_extension": ".py",
   "mimetype": "text/x-python",
   "name": "python",
   "nbconvert_exporter": "python",
   "pygments_lexer": "ipython3",
   "version": "3.11.7"
  }
 },
 "nbformat": 4,
 "nbformat_minor": 2
}
