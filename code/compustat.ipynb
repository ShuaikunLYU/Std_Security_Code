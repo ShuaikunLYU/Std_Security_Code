{
 "cells": [
  {
   "cell_type": "markdown",
   "metadata": {},
   "source": [
    "# Compustat"
   ]
  },
  {
   "cell_type": "code",
   "execution_count": 1,
   "metadata": {},
   "outputs": [],
   "source": [
    "import pandas as pd"
   ]
  },
  {
   "cell_type": "markdown",
   "metadata": {},
   "source": [
    "## Fix [#1](https://github.com/Wenzhi-Ding/Std_Security_Code/issues/1)"
   ]
  },
  {
   "cell_type": "code",
   "execution_count": 2,
   "metadata": {},
   "outputs": [
    {
     "data": {
      "text/plain": [
       "(3154733, 4)"
      ]
     },
     "execution_count": 2,
     "metadata": {},
     "output_type": "execute_result"
    },
    {
     "data": {
      "text/html": [
       "<div>\n",
       "<style scoped>\n",
       "    .dataframe tbody tr th:only-of-type {\n",
       "        vertical-align: middle;\n",
       "    }\n",
       "\n",
       "    .dataframe tbody tr th {\n",
       "        vertical-align: top;\n",
       "    }\n",
       "\n",
       "    .dataframe thead th {\n",
       "        text-align: right;\n",
       "    }\n",
       "</style>\n",
       "<table border=\"1\" class=\"dataframe\">\n",
       "  <thead>\n",
       "    <tr style=\"text-align: right;\">\n",
       "      <th></th>\n",
       "      <th>isin</th>\n",
       "      <th>gvkey</th>\n",
       "      <th>source</th>\n",
       "      <th>update</th>\n",
       "    </tr>\n",
       "  </thead>\n",
       "  <tbody>\n",
       "    <tr>\n",
       "      <th>1581537</th>\n",
       "      <td>DE000CV1XCZ3</td>\n",
       "      <td>15575</td>\n",
       "      <td>Capital IQ</td>\n",
       "      <td>2022-06-18</td>\n",
       "    </tr>\n",
       "    <tr>\n",
       "      <th>2108685</th>\n",
       "      <td>DE000DD339L2</td>\n",
       "      <td>267620</td>\n",
       "      <td>Capital IQ</td>\n",
       "      <td>2022-06-18</td>\n",
       "    </tr>\n",
       "    <tr>\n",
       "      <th>2108711</th>\n",
       "      <td>DE000DD4E9R9</td>\n",
       "      <td>267620</td>\n",
       "      <td>Capital IQ</td>\n",
       "      <td>2022-06-18</td>\n",
       "    </tr>\n",
       "  </tbody>\n",
       "</table>\n",
       "</div>"
      ],
      "text/plain": [
       "                 isin   gvkey      source     update\n",
       "1581537  DE000CV1XCZ3   15575  Capital IQ 2022-06-18\n",
       "2108685  DE000DD339L2  267620  Capital IQ 2022-06-18\n",
       "2108711  DE000DD4E9R9  267620  Capital IQ 2022-06-18"
      ]
     },
     "execution_count": 2,
     "metadata": {},
     "output_type": "execute_result"
    }
   ],
   "source": [
    "lk = pd.read_parquet('../isin/gvkey.pq')\n",
    "lk.shape\n",
    "lk.head(3)"
   ]
  },
  {
   "cell_type": "code",
   "execution_count": 6,
   "metadata": {},
   "outputs": [
    {
     "data": {
      "text/plain": [
       "(168844, 4)"
      ]
     },
     "execution_count": 6,
     "metadata": {},
     "output_type": "execute_result"
    }
   ],
   "source": [
    "lk2 = lk.loc[lk['gvkey'] == 15575]\n",
    "lk2.shape"
   ]
  },
  {
   "cell_type": "code",
   "execution_count": 4,
   "metadata": {},
   "outputs": [
    {
     "data": {
      "text/plain": [
       "(10770401, 4)"
      ]
     },
     "execution_count": 4,
     "metadata": {},
     "output_type": "execute_result"
    },
    {
     "data": {
      "text/html": [
       "<div>\n",
       "<style scoped>\n",
       "    .dataframe tbody tr th:only-of-type {\n",
       "        vertical-align: middle;\n",
       "    }\n",
       "\n",
       "    .dataframe tbody tr th {\n",
       "        vertical-align: top;\n",
       "    }\n",
       "\n",
       "    .dataframe thead th {\n",
       "        text-align: right;\n",
       "    }\n",
       "</style>\n",
       "<table border=\"1\" class=\"dataframe\">\n",
       "  <thead>\n",
       "    <tr style=\"text-align: right;\">\n",
       "      <th></th>\n",
       "      <th>isin</th>\n",
       "      <th>company_name</th>\n",
       "      <th>source</th>\n",
       "      <th>update</th>\n",
       "    </tr>\n",
       "  </thead>\n",
       "  <tbody>\n",
       "    <tr>\n",
       "      <th>0</th>\n",
       "      <td>CNE100000TP3</td>\n",
       "      <td>LUXSHARE PRECISION INDUSTRY CO LTD (LUXSHARE)</td>\n",
       "      <td>RepRisk</td>\n",
       "      <td>2022-06-19</td>\n",
       "    </tr>\n",
       "    <tr>\n",
       "      <th>183609</th>\n",
       "      <td>US140420LV06</td>\n",
       "      <td>CAPITAL ONE BANK NA</td>\n",
       "      <td>RepRisk</td>\n",
       "      <td>2022-06-19</td>\n",
       "    </tr>\n",
       "    <tr>\n",
       "      <th>183595</th>\n",
       "      <td>US140420YL86</td>\n",
       "      <td>CAPITAL ONE BANK NA</td>\n",
       "      <td>RepRisk</td>\n",
       "      <td>2022-06-19</td>\n",
       "    </tr>\n",
       "  </tbody>\n",
       "</table>\n",
       "</div>"
      ],
      "text/plain": [
       "                isin                                   company_name   source  \\\n",
       "0       CNE100000TP3  LUXSHARE PRECISION INDUSTRY CO LTD (LUXSHARE)  RepRisk   \n",
       "183609  US140420LV06                            CAPITAL ONE BANK NA  RepRisk   \n",
       "183595  US140420YL86                            CAPITAL ONE BANK NA  RepRisk   \n",
       "\n",
       "           update  \n",
       "0      2022-06-19  \n",
       "183609 2022-06-19  \n",
       "183595 2022-06-19  "
      ]
     },
     "execution_count": 4,
     "metadata": {},
     "output_type": "execute_result"
    }
   ],
   "source": [
    "cn = pd.read_parquet('../isin/company_name.pq')\n",
    "cn.shape\n",
    "cn.head(3)"
   ]
  },
  {
   "cell_type": "code",
   "execution_count": 8,
   "metadata": {},
   "outputs": [
    {
     "data": {
      "text/plain": [
       "(168860, 7)"
      ]
     },
     "execution_count": 8,
     "metadata": {},
     "output_type": "execute_result"
    },
    {
     "data": {
      "text/html": [
       "<div>\n",
       "<style scoped>\n",
       "    .dataframe tbody tr th:only-of-type {\n",
       "        vertical-align: middle;\n",
       "    }\n",
       "\n",
       "    .dataframe tbody tr th {\n",
       "        vertical-align: top;\n",
       "    }\n",
       "\n",
       "    .dataframe thead th {\n",
       "        text-align: right;\n",
       "    }\n",
       "</style>\n",
       "<table border=\"1\" class=\"dataframe\">\n",
       "  <thead>\n",
       "    <tr style=\"text-align: right;\">\n",
       "      <th></th>\n",
       "      <th>isin</th>\n",
       "      <th>gvkey</th>\n",
       "      <th>source_x</th>\n",
       "      <th>update_x</th>\n",
       "      <th>company_name</th>\n",
       "      <th>source_y</th>\n",
       "      <th>update_y</th>\n",
       "    </tr>\n",
       "  </thead>\n",
       "  <tbody>\n",
       "    <tr>\n",
       "      <th>0</th>\n",
       "      <td>DE000CV1XCZ3</td>\n",
       "      <td>15575</td>\n",
       "      <td>Capital IQ</td>\n",
       "      <td>2022-06-18</td>\n",
       "      <td>COMMERZBANK AG</td>\n",
       "      <td>Capital IQ</td>\n",
       "      <td>2022-06-18</td>\n",
       "    </tr>\n",
       "    <tr>\n",
       "      <th>1</th>\n",
       "      <td>DE000CV1XD04</td>\n",
       "      <td>15575</td>\n",
       "      <td>Capital IQ</td>\n",
       "      <td>2022-06-18</td>\n",
       "      <td>COMMERZBANK AG</td>\n",
       "      <td>Capital IQ</td>\n",
       "      <td>2022-06-18</td>\n",
       "    </tr>\n",
       "    <tr>\n",
       "      <th>2</th>\n",
       "      <td>DE000CL19760</td>\n",
       "      <td>15575</td>\n",
       "      <td>Capital IQ</td>\n",
       "      <td>2022-06-18</td>\n",
       "      <td>COMMERZBANK AG</td>\n",
       "      <td>Capital IQ</td>\n",
       "      <td>2022-06-18</td>\n",
       "    </tr>\n",
       "  </tbody>\n",
       "</table>\n",
       "</div>"
      ],
      "text/plain": [
       "           isin  gvkey    source_x   update_x    company_name    source_y  \\\n",
       "0  DE000CV1XCZ3  15575  Capital IQ 2022-06-18  COMMERZBANK AG  Capital IQ   \n",
       "1  DE000CV1XD04  15575  Capital IQ 2022-06-18  COMMERZBANK AG  Capital IQ   \n",
       "2  DE000CL19760  15575  Capital IQ 2022-06-18  COMMERZBANK AG  Capital IQ   \n",
       "\n",
       "    update_y  \n",
       "0 2022-06-18  \n",
       "1 2022-06-18  \n",
       "2 2022-06-18  "
      ]
     },
     "execution_count": 8,
     "metadata": {},
     "output_type": "execute_result"
    }
   ],
   "source": [
    "lk3 = lk2.merge(cn, on='isin', how='left')\n",
    "lk3.shape\n",
    "lk3.head(3)"
   ]
  },
  {
   "cell_type": "code",
   "execution_count": 9,
   "metadata": {},
   "outputs": [
    {
     "data": {
      "text/plain": [
       "company_name\n",
       "COMMERZBANK AG                                   168844\n",
       "COMMERZBANK A G                                       8\n",
       "COMMERZBANK AG, FRANKFURT                             3\n",
       "COMMERZBANK                                           3\n",
       "COMMERZBANK VON 1870 AG                               1\n",
       "BNPP SECURITIES SERVICES (NETHERLANDS BRANCH)         1\n",
       "Name: count, dtype: int64"
      ]
     },
     "execution_count": 9,
     "metadata": {},
     "output_type": "execute_result"
    }
   ],
   "source": [
    "lk3['company_name'].value_counts()"
   ]
  },
  {
   "cell_type": "code",
   "execution_count": null,
   "metadata": {},
   "outputs": [],
   "source": []
  }
 ],
 "metadata": {
  "kernelspec": {
   "display_name": "base",
   "language": "python",
   "name": "python3"
  },
  "language_info": {
   "codemirror_mode": {
    "name": "ipython",
    "version": 3
   },
   "file_extension": ".py",
   "mimetype": "text/x-python",
   "name": "python",
   "nbconvert_exporter": "python",
   "pygments_lexer": "ipython3",
   "version": "3.11.7"
  }
 },
 "nbformat": 4,
 "nbformat_minor": 2
}
